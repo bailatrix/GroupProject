{
 "cells": [
  {
   "cell_type": "code",
   "execution_count": 8,
   "metadata": {},
   "outputs": [],
   "source": [
    "# imports and dependencies, api_key\n",
    "import pandas as pd\n",
    "import numpy as np\n",
    "import matplotlib.pyplot as plt\n",
    "#import gmaps"
   ]
  },
  {
   "cell_type": "code",
   "execution_count": 9,
   "metadata": {},
   "outputs": [],
   "source": [
    "# import gmaps API key for heat map\n",
    "#from config import gkey\n",
    "#\n",
    "## Configure gmaps\n",
    "#gmaps.configure(api_key=gkey)"
   ]
  },
  {
   "cell_type": "code",
   "execution_count": 10,
   "metadata": {},
   "outputs": [],
   "source": [
    "# file to load\n",
    "path = \"./Accident_Info.csv\""
   ]
  },
  {
   "cell_type": "code",
   "execution_count": 11,
   "metadata": {},
   "outputs": [],
   "source": [
    "# initial data read for San Francisco\n",
    "data = pd.read_csv( path )"
   ]
  },
  {
   "cell_type": "code",
   "execution_count": 12,
   "metadata": {},
   "outputs": [],
   "source": [
    "# Clean data of duplicates and missing values, rename columns\n",
    "df = pd.DataFrame( data )"
   ]
  },
  {
   "cell_type": "code",
   "execution_count": 13,
   "metadata": {},
   "outputs": [],
   "source": [
    "# formatting of data, NaN handling\n",
    "df = df[[\"Accident_Index\", \"Accident_Severity\",\n",
    "         \"Date\", \"Day_of_Week\",\n",
    "         \"Junction_Control\", \"Junction_Detail\",\n",
    "         \"Latitude\", \"Longitude\", \"Light_Conditions\",\n",
    "         \"Road_Surface_Conditions\", \"Speed_limit\",\n",
    "         \"Time\", \"Urban_or_Rural_Area\",\n",
    "         \"Weather_Conditions\", \"Year\"]]\n",
    "df = df.rename(index=str, columns={\"Accident_Index\": \"Accident\",\n",
    "                                   \"Accident_Severity\": \"Severity\",\n",
    "                                   \"Day_of_Week\": \"Day\",\n",
    "                                   \"Junction_Control\": \"Traffic Control\",\n",
    "                                   \"Junction_Detail\": \"Junction Type\",\n",
    "                                   \"Light_Conditions\": \"Light\",\n",
    "                                   \"Road_Surface_Conditions\": \"Road Cond.\",\n",
    "                                   \"Speed_limit\": \"Speed Limit\",\n",
    "                                   \"Urban_or_Rural_Area\": \"City Type\",\n",
    "                                   \"Weather_Conditions\": \"Weather\"})\n",
    "df = df.set_index( \"Accident\" )"
   ]
  },
  {
   "cell_type": "code",
   "execution_count": 14,
   "metadata": {},
   "outputs": [
    {
     "data": {
      "text/html": [
       "<div>\n",
       "<style scoped>\n",
       "    .dataframe tbody tr th:only-of-type {\n",
       "        vertical-align: middle;\n",
       "    }\n",
       "\n",
       "    .dataframe tbody tr th {\n",
       "        vertical-align: top;\n",
       "    }\n",
       "\n",
       "    .dataframe thead th {\n",
       "        text-align: right;\n",
       "    }\n",
       "</style>\n",
       "<table border=\"1\" class=\"dataframe\">\n",
       "  <thead>\n",
       "    <tr style=\"text-align: right;\">\n",
       "      <th></th>\n",
       "      <th>Severity</th>\n",
       "      <th>Date</th>\n",
       "      <th>Day</th>\n",
       "      <th>Traffic Control</th>\n",
       "      <th>Junction Type</th>\n",
       "      <th>Latitude</th>\n",
       "      <th>Longitude</th>\n",
       "      <th>Light</th>\n",
       "      <th>Road Cond.</th>\n",
       "      <th>Speed Limit</th>\n",
       "      <th>Time</th>\n",
       "      <th>City Type</th>\n",
       "      <th>Weather</th>\n",
       "      <th>Year</th>\n",
       "    </tr>\n",
       "    <tr>\n",
       "      <th>Accident</th>\n",
       "      <th></th>\n",
       "      <th></th>\n",
       "      <th></th>\n",
       "      <th></th>\n",
       "      <th></th>\n",
       "      <th></th>\n",
       "      <th></th>\n",
       "      <th></th>\n",
       "      <th></th>\n",
       "      <th></th>\n",
       "      <th></th>\n",
       "      <th></th>\n",
       "      <th></th>\n",
       "      <th></th>\n",
       "    </tr>\n",
       "  </thead>\n",
       "  <tbody>\n",
       "    <tr>\n",
       "      <th>200501BS00001</th>\n",
       "      <td>Serious</td>\n",
       "      <td>1/4/2005</td>\n",
       "      <td>Tuesday</td>\n",
       "      <td>Data missing or out of range</td>\n",
       "      <td>Not at junction or within 20 metres</td>\n",
       "      <td>51.489096</td>\n",
       "      <td>-0.191170</td>\n",
       "      <td>Daylight</td>\n",
       "      <td>Wet or damp</td>\n",
       "      <td>30</td>\n",
       "      <td>17:42</td>\n",
       "      <td>Urban</td>\n",
       "      <td>Raining no high winds</td>\n",
       "      <td>2005</td>\n",
       "    </tr>\n",
       "    <tr>\n",
       "      <th>200501BS00002</th>\n",
       "      <td>Slight</td>\n",
       "      <td>1/5/2005</td>\n",
       "      <td>Wednesday</td>\n",
       "      <td>Auto traffic signal</td>\n",
       "      <td>Crossroads</td>\n",
       "      <td>51.520075</td>\n",
       "      <td>-0.211708</td>\n",
       "      <td>Darkness - lights lit</td>\n",
       "      <td>Dry</td>\n",
       "      <td>30</td>\n",
       "      <td>17:36</td>\n",
       "      <td>Urban</td>\n",
       "      <td>Fine no high winds</td>\n",
       "      <td>2005</td>\n",
       "    </tr>\n",
       "    <tr>\n",
       "      <th>200501BS00003</th>\n",
       "      <td>Slight</td>\n",
       "      <td>1/6/2005</td>\n",
       "      <td>Thursday</td>\n",
       "      <td>Data missing or out of range</td>\n",
       "      <td>Not at junction or within 20 metres</td>\n",
       "      <td>51.525301</td>\n",
       "      <td>-0.206458</td>\n",
       "      <td>Darkness - lights lit</td>\n",
       "      <td>Dry</td>\n",
       "      <td>30</td>\n",
       "      <td>0:15</td>\n",
       "      <td>Urban</td>\n",
       "      <td>Fine no high winds</td>\n",
       "      <td>2005</td>\n",
       "    </tr>\n",
       "    <tr>\n",
       "      <th>200501BS00004</th>\n",
       "      <td>Slight</td>\n",
       "      <td>1/7/2005</td>\n",
       "      <td>Friday</td>\n",
       "      <td>Data missing or out of range</td>\n",
       "      <td>Not at junction or within 20 metres</td>\n",
       "      <td>51.482442</td>\n",
       "      <td>-0.173862</td>\n",
       "      <td>Daylight</td>\n",
       "      <td>Dry</td>\n",
       "      <td>30</td>\n",
       "      <td>10:35</td>\n",
       "      <td>Urban</td>\n",
       "      <td>Fine no high winds</td>\n",
       "      <td>2005</td>\n",
       "    </tr>\n",
       "    <tr>\n",
       "      <th>200501BS00005</th>\n",
       "      <td>Slight</td>\n",
       "      <td>1/10/2005</td>\n",
       "      <td>Monday</td>\n",
       "      <td>Data missing or out of range</td>\n",
       "      <td>Not at junction or within 20 metres</td>\n",
       "      <td>51.495752</td>\n",
       "      <td>-0.156618</td>\n",
       "      <td>Darkness - lighting unknown</td>\n",
       "      <td>Wet or damp</td>\n",
       "      <td>30</td>\n",
       "      <td>21:13</td>\n",
       "      <td>Urban</td>\n",
       "      <td>Fine no high winds</td>\n",
       "      <td>2005</td>\n",
       "    </tr>\n",
       "  </tbody>\n",
       "</table>\n",
       "</div>"
      ],
      "text/plain": [
       "              Severity       Date        Day               Traffic Control  \\\n",
       "Accident                                                                     \n",
       "200501BS00001  Serious   1/4/2005    Tuesday  Data missing or out of range   \n",
       "200501BS00002   Slight   1/5/2005  Wednesday           Auto traffic signal   \n",
       "200501BS00003   Slight   1/6/2005   Thursday  Data missing or out of range   \n",
       "200501BS00004   Slight   1/7/2005     Friday  Data missing or out of range   \n",
       "200501BS00005   Slight  1/10/2005     Monday  Data missing or out of range   \n",
       "\n",
       "                                     Junction Type   Latitude  Longitude  \\\n",
       "Accident                                                                   \n",
       "200501BS00001  Not at junction or within 20 metres  51.489096  -0.191170   \n",
       "200501BS00002                           Crossroads  51.520075  -0.211708   \n",
       "200501BS00003  Not at junction or within 20 metres  51.525301  -0.206458   \n",
       "200501BS00004  Not at junction or within 20 metres  51.482442  -0.173862   \n",
       "200501BS00005  Not at junction or within 20 metres  51.495752  -0.156618   \n",
       "\n",
       "                                     Light   Road Cond.  Speed Limit   Time  \\\n",
       "Accident                                                                      \n",
       "200501BS00001                     Daylight  Wet or damp           30  17:42   \n",
       "200501BS00002        Darkness - lights lit          Dry           30  17:36   \n",
       "200501BS00003        Darkness - lights lit          Dry           30   0:15   \n",
       "200501BS00004                     Daylight          Dry           30  10:35   \n",
       "200501BS00005  Darkness - lighting unknown  Wet or damp           30  21:13   \n",
       "\n",
       "              City Type                Weather  Year  \n",
       "Accident                                              \n",
       "200501BS00001     Urban  Raining no high winds  2005  \n",
       "200501BS00002     Urban     Fine no high winds  2005  \n",
       "200501BS00003     Urban     Fine no high winds  2005  \n",
       "200501BS00004     Urban     Fine no high winds  2005  \n",
       "200501BS00005     Urban     Fine no high winds  2005  "
      ]
     },
     "execution_count": 14,
     "metadata": {},
     "output_type": "execute_result"
    }
   ],
   "source": [
    "# preview of data\n",
    "df.head()"
   ]
  },
  {
   "cell_type": "markdown",
   "metadata": {},
   "source": [
    "## Location and Time Trends"
   ]
  },
  {
   "cell_type": "markdown",
   "metadata": {},
   "source": [
    "### How do location and time of day affect severity of accidents? [Tim]"
   ]
  },
  {
   "cell_type": "markdown",
   "metadata": {},
   "source": [
    "Does the location within London have an affect on the severity of an accident?"
   ]
  },
  {
   "cell_type": "code",
   "execution_count": null,
   "metadata": {},
   "outputs": [],
   "source": [
    "# pull above data - CHANGE data REFERENCE ( don't rewrite master copy of data )"
   ]
  },
  {
   "cell_type": "code",
   "execution_count": null,
   "metadata": {},
   "outputs": [],
   "source": [
    "# re-format/style data for trend1"
   ]
  },
  {
   "cell_type": "code",
   "execution_count": null,
   "metadata": {},
   "outputs": [],
   "source": [
    "# manipulate data\n",
    "# setup analysis"
   ]
  },
  {
   "cell_type": "code",
   "execution_count": null,
   "metadata": {},
   "outputs": [],
   "source": [
    "# preview of data"
   ]
  },
  {
   "cell_type": "code",
   "execution_count": null,
   "metadata": {},
   "outputs": [],
   "source": [
    "# visualization of data\n",
    "# consider the best visualization for what you want to show"
   ]
  },
  {
   "cell_type": "code",
   "execution_count": null,
   "metadata": {},
   "outputs": [],
   "source": [
    "# free space"
   ]
  },
  {
   "cell_type": "markdown",
   "metadata": {},
   "source": [
    "Are accidents more or less severe on a particular day of the week?"
   ]
  },
  {
   "cell_type": "code",
   "execution_count": null,
   "metadata": {},
   "outputs": [],
   "source": [
    "# re-format/style data for trend2"
   ]
  },
  {
   "cell_type": "code",
   "execution_count": null,
   "metadata": {},
   "outputs": [],
   "source": [
    "# manipulate data\n",
    "# setup analysis"
   ]
  },
  {
   "cell_type": "code",
   "execution_count": null,
   "metadata": {},
   "outputs": [],
   "source": [
    "# preview of data"
   ]
  },
  {
   "cell_type": "code",
   "execution_count": null,
   "metadata": {},
   "outputs": [],
   "source": [
    "# visualization of data\n",
    "# consider the best visualization for what you want to show"
   ]
  },
  {
   "cell_type": "code",
   "execution_count": null,
   "metadata": {},
   "outputs": [],
   "source": [
    "# free space"
   ]
  },
  {
   "cell_type": "markdown",
   "metadata": {},
   "source": [
    "Does the time of day play a role in the number of severe accidents?"
   ]
  },
  {
   "cell_type": "code",
   "execution_count": null,
   "metadata": {},
   "outputs": [],
   "source": [
    "# re-format/style data for trend3"
   ]
  },
  {
   "cell_type": "code",
   "execution_count": null,
   "metadata": {},
   "outputs": [],
   "source": [
    "# manipulate data\n",
    "# setup analysis"
   ]
  },
  {
   "cell_type": "code",
   "execution_count": null,
   "metadata": {},
   "outputs": [],
   "source": [
    "# preview of data"
   ]
  },
  {
   "cell_type": "code",
   "execution_count": null,
   "metadata": {},
   "outputs": [],
   "source": [
    "# visualization of data\n",
    "# consider the best visualization for what you want to show"
   ]
  },
  {
   "cell_type": "markdown",
   "metadata": {},
   "source": [
    "Overall, it appears that _ _ _ _ _ _ _ _ _ _ _ _ "
   ]
  },
  {
   "cell_type": "markdown",
   "metadata": {},
   "source": [
    "## Weather Conditions"
   ]
  },
  {
   "cell_type": "markdown",
   "metadata": {},
   "source": [
    "### How do weather and visibility affect accident trends?"
   ]
  },
  {
   "cell_type": "markdown",
   "metadata": {},
   "source": [
    "trend1 description / question / prompt"
   ]
  },
  {
   "cell_type": "code",
   "execution_count": null,
   "metadata": {},
   "outputs": [],
   "source": [
    "# pull above data - CHANGE data REFERENCE ( don't rewrite master copy of data )"
   ]
  },
  {
   "cell_type": "code",
   "execution_count": null,
   "metadata": {},
   "outputs": [],
   "source": [
    "# re-format/style data for trend1"
   ]
  },
  {
   "cell_type": "code",
   "execution_count": null,
   "metadata": {},
   "outputs": [],
   "source": [
    "# manipulate data\n",
    "# setup analysis"
   ]
  },
  {
   "cell_type": "code",
   "execution_count": null,
   "metadata": {},
   "outputs": [],
   "source": [
    "# preview of data"
   ]
  },
  {
   "cell_type": "code",
   "execution_count": null,
   "metadata": {},
   "outputs": [],
   "source": [
    "# visualization of data\n",
    "# consider the best visualization for what you want to show"
   ]
  },
  {
   "cell_type": "code",
   "execution_count": null,
   "metadata": {},
   "outputs": [],
   "source": [
    "# free space"
   ]
  },
  {
   "cell_type": "markdown",
   "metadata": {},
   "source": [
    "trend2 description / question / prompt"
   ]
  },
  {
   "cell_type": "code",
   "execution_count": null,
   "metadata": {},
   "outputs": [],
   "source": [
    "# re-format/style data for trend2"
   ]
  },
  {
   "cell_type": "code",
   "execution_count": null,
   "metadata": {},
   "outputs": [],
   "source": [
    "# manipulate data\n",
    "# setup analysis"
   ]
  },
  {
   "cell_type": "code",
   "execution_count": null,
   "metadata": {},
   "outputs": [],
   "source": [
    "# preview of data"
   ]
  },
  {
   "cell_type": "code",
   "execution_count": null,
   "metadata": {},
   "outputs": [],
   "source": [
    "# visualization of data\n",
    "# consider the best visualization for what you want to show"
   ]
  },
  {
   "cell_type": "code",
   "execution_count": null,
   "metadata": {},
   "outputs": [],
   "source": [
    "# free space"
   ]
  },
  {
   "cell_type": "markdown",
   "metadata": {},
   "source": [
    "trend3 description / question / prompt"
   ]
  },
  {
   "cell_type": "code",
   "execution_count": null,
   "metadata": {},
   "outputs": [],
   "source": [
    "# re-format/style data for trend3"
   ]
  },
  {
   "cell_type": "code",
   "execution_count": null,
   "metadata": {},
   "outputs": [],
   "source": [
    "# manipulate data\n",
    "# setup analysis"
   ]
  },
  {
   "cell_type": "code",
   "execution_count": null,
   "metadata": {},
   "outputs": [],
   "source": [
    "# preview of data"
   ]
  },
  {
   "cell_type": "code",
   "execution_count": null,
   "metadata": {},
   "outputs": [],
   "source": [
    "# visualization of data\n",
    "# consider the best visualization for what you want to show"
   ]
  },
  {
   "cell_type": "markdown",
   "metadata": {},
   "source": [
    "Any comments on observations?"
   ]
  },
  {
   "cell_type": "markdown",
   "metadata": {},
   "source": [
    "## Subject Headline"
   ]
  },
  {
   "cell_type": "markdown",
   "metadata": {},
   "source": [
    "### Subject focus"
   ]
  },
  {
   "cell_type": "markdown",
   "metadata": {},
   "source": [
    "trend1 description / question / prompt"
   ]
  },
  {
   "cell_type": "code",
   "execution_count": null,
   "metadata": {},
   "outputs": [],
   "source": [
    "# pull above data - CHANGE data REFERENCE ( don't rewrite master copy of data )"
   ]
  },
  {
   "cell_type": "code",
   "execution_count": null,
   "metadata": {},
   "outputs": [],
   "source": [
    "# re-format/style data for trend1"
   ]
  },
  {
   "cell_type": "code",
   "execution_count": null,
   "metadata": {},
   "outputs": [],
   "source": [
    "# manipulate data\n",
    "# setup analysis"
   ]
  },
  {
   "cell_type": "code",
   "execution_count": null,
   "metadata": {},
   "outputs": [],
   "source": [
    "# preview of data"
   ]
  },
  {
   "cell_type": "code",
   "execution_count": null,
   "metadata": {},
   "outputs": [],
   "source": [
    "# visualization of data\n",
    "# consider the best visualization for what you want to show"
   ]
  },
  {
   "cell_type": "code",
   "execution_count": null,
   "metadata": {},
   "outputs": [],
   "source": [
    "# free space"
   ]
  },
  {
   "cell_type": "markdown",
   "metadata": {},
   "source": [
    "trend2 description / question / prompt"
   ]
  },
  {
   "cell_type": "code",
   "execution_count": null,
   "metadata": {},
   "outputs": [],
   "source": [
    "# re-format/style data for trend2"
   ]
  },
  {
   "cell_type": "code",
   "execution_count": null,
   "metadata": {},
   "outputs": [],
   "source": [
    "# manipulate data\n",
    "# setup analysis"
   ]
  },
  {
   "cell_type": "code",
   "execution_count": null,
   "metadata": {},
   "outputs": [],
   "source": [
    "# preview of data"
   ]
  },
  {
   "cell_type": "code",
   "execution_count": null,
   "metadata": {},
   "outputs": [],
   "source": [
    "# visualization of data\n",
    "# consider the best visualization for what you want to show"
   ]
  },
  {
   "cell_type": "code",
   "execution_count": null,
   "metadata": {},
   "outputs": [],
   "source": [
    "# free space"
   ]
  },
  {
   "cell_type": "markdown",
   "metadata": {},
   "source": [
    "trend3 description / question / prompt"
   ]
  },
  {
   "cell_type": "code",
   "execution_count": null,
   "metadata": {},
   "outputs": [],
   "source": [
    "# re-format/style data for trend3"
   ]
  },
  {
   "cell_type": "code",
   "execution_count": null,
   "metadata": {},
   "outputs": [],
   "source": [
    "# manipulate data\n",
    "# setup analysis"
   ]
  },
  {
   "cell_type": "code",
   "execution_count": null,
   "metadata": {},
   "outputs": [],
   "source": [
    "# preview of data"
   ]
  },
  {
   "cell_type": "code",
   "execution_count": null,
   "metadata": {},
   "outputs": [],
   "source": [
    "# visualization of data\n",
    "# consider the best visualization for what you want to show"
   ]
  },
  {
   "cell_type": "markdown",
   "metadata": {},
   "source": [
    "Any comments on observations?"
   ]
  }
 ],
 "metadata": {
  "kernelspec": {
   "display_name": "Python 3",
   "language": "python",
   "name": "python3"
  },
  "language_info": {
   "codemirror_mode": {
    "name": "ipython",
    "version": 3
   },
   "file_extension": ".py",
   "mimetype": "text/x-python",
   "name": "python",
   "nbconvert_exporter": "python",
   "pygments_lexer": "ipython3",
   "version": "3.7.0"
  }
 },
 "nbformat": 4,
 "nbformat_minor": 2
}
