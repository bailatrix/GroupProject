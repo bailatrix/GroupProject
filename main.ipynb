{
 "cells": [
  {
   "cell_type": "code",
   "execution_count": 18,
   "metadata": {},
   "outputs": [],
   "source": [
    "# imports and dependencies, api_key\n",
    "import pandas as pd\n",
    "import numpy as np\n",
    "import matplotlib.pyplot as plt\n",
    "from matplotlib import rc\n",
    "import datetime\n",
    "\n",
    "import gmaps"
   ]
  },
  {
   "cell_type": "code",
   "execution_count": 3,
   "metadata": {},
   "outputs": [],
   "source": [
    "# import gmaps API key for heat map\n",
    "from config import gkey\n",
    "\n",
    "# Configure gmaps\n",
    "gmaps.configure(api_key=gkey)"
   ]
  },
  {
   "cell_type": "code",
   "execution_count": 19,
   "metadata": {},
   "outputs": [],
   "source": [
    "# file to load\n",
    "path = \"./Accident_Info.csv\""
   ]
  },
  {
   "cell_type": "code",
   "execution_count": 20,
   "metadata": {},
   "outputs": [],
   "source": [
    "# initial data read for San Francisco\n",
    "data = pd.read_csv( path )"
   ]
  },
  {
   "cell_type": "code",
   "execution_count": 21,
   "metadata": {},
   "outputs": [],
   "source": [
    "# Clean data of duplicates and missing values, rename columns\n",
    "df = pd.DataFrame( data )"
   ]
  },
  {
   "cell_type": "code",
   "execution_count": 22,
   "metadata": {},
   "outputs": [],
   "source": [
    "# formatting of data, NaN handling\n",
    "df = df[[\"Accident_Index\", \"Accident_Severity\",\n",
    "         \"Date\", \"Day_of_Week\",\n",
    "         \"Junction_Control\", \"Junction_Detail\",\n",
    "         \"Latitude\", \"Longitude\", \"Light_Conditions\",\n",
    "         \"Road_Surface_Conditions\", \"Speed_limit\",\n",
    "         \"Time\", \"Urban_or_Rural_Area\",\n",
    "         \"Weather_Conditions\", \"Year\"]]\n",
    "df = df.rename(index=str, columns={\"Accident_Index\": \"Accident\",\n",
    "                                   \"Accident_Severity\": \"Severity\",\n",
    "                                   \"Day_of_Week\": \"Day\",\n",
    "                                   \"Junction_Control\": \"Traffic Control\",\n",
    "                                   \"Junction_Detail\": \"Junction Type\",\n",
    "                                   \"Light_Conditions\": \"Light\",\n",
    "                                   \"Road_Surface_Conditions\": \"Road Cond.\",\n",
    "                                   \"Speed_limit\": \"Speed Limit\",\n",
    "                                   \"Urban_or_Rural_Area\": \"City Type\",\n",
    "                                   \"Weather_Conditions\": \"Weather\"})\n",
    "df = df.set_index( \"Accident\" )"
   ]
  },
  {
   "cell_type": "code",
   "execution_count": 23,
   "metadata": {},
   "outputs": [
    {
     "data": {
      "text/html": [
       "<div>\n",
       "<style scoped>\n",
       "    .dataframe tbody tr th:only-of-type {\n",
       "        vertical-align: middle;\n",
       "    }\n",
       "\n",
       "    .dataframe tbody tr th {\n",
       "        vertical-align: top;\n",
       "    }\n",
       "\n",
       "    .dataframe thead th {\n",
       "        text-align: right;\n",
       "    }\n",
       "</style>\n",
       "<table border=\"1\" class=\"dataframe\">\n",
       "  <thead>\n",
       "    <tr style=\"text-align: right;\">\n",
       "      <th></th>\n",
       "      <th>Severity</th>\n",
       "      <th>Date</th>\n",
       "      <th>Day</th>\n",
       "      <th>Traffic Control</th>\n",
       "      <th>Junction Type</th>\n",
       "      <th>Latitude</th>\n",
       "      <th>Longitude</th>\n",
       "      <th>Light</th>\n",
       "      <th>Road Cond.</th>\n",
       "      <th>Speed Limit</th>\n",
       "      <th>Time</th>\n",
       "      <th>City Type</th>\n",
       "      <th>Weather</th>\n",
       "      <th>Year</th>\n",
       "    </tr>\n",
       "    <tr>\n",
       "      <th>Accident</th>\n",
       "      <th></th>\n",
       "      <th></th>\n",
       "      <th></th>\n",
       "      <th></th>\n",
       "      <th></th>\n",
       "      <th></th>\n",
       "      <th></th>\n",
       "      <th></th>\n",
       "      <th></th>\n",
       "      <th></th>\n",
       "      <th></th>\n",
       "      <th></th>\n",
       "      <th></th>\n",
       "      <th></th>\n",
       "    </tr>\n",
       "  </thead>\n",
       "  <tbody>\n",
       "    <tr>\n",
       "      <th>200501BS00001</th>\n",
       "      <td>Serious</td>\n",
       "      <td>1/4/2005</td>\n",
       "      <td>Tuesday</td>\n",
       "      <td>Data missing or out of range</td>\n",
       "      <td>Not at junction or within 20 metres</td>\n",
       "      <td>51.489096</td>\n",
       "      <td>-0.191170</td>\n",
       "      <td>Daylight</td>\n",
       "      <td>Wet or damp</td>\n",
       "      <td>30</td>\n",
       "      <td>17:42</td>\n",
       "      <td>Urban</td>\n",
       "      <td>Raining no high winds</td>\n",
       "      <td>2005</td>\n",
       "    </tr>\n",
       "    <tr>\n",
       "      <th>200501BS00002</th>\n",
       "      <td>Slight</td>\n",
       "      <td>1/5/2005</td>\n",
       "      <td>Wednesday</td>\n",
       "      <td>Auto traffic signal</td>\n",
       "      <td>Crossroads</td>\n",
       "      <td>51.520075</td>\n",
       "      <td>-0.211708</td>\n",
       "      <td>Darkness - lights lit</td>\n",
       "      <td>Dry</td>\n",
       "      <td>30</td>\n",
       "      <td>17:36</td>\n",
       "      <td>Urban</td>\n",
       "      <td>Fine no high winds</td>\n",
       "      <td>2005</td>\n",
       "    </tr>\n",
       "    <tr>\n",
       "      <th>200501BS00003</th>\n",
       "      <td>Slight</td>\n",
       "      <td>1/6/2005</td>\n",
       "      <td>Thursday</td>\n",
       "      <td>Data missing or out of range</td>\n",
       "      <td>Not at junction or within 20 metres</td>\n",
       "      <td>51.525301</td>\n",
       "      <td>-0.206458</td>\n",
       "      <td>Darkness - lights lit</td>\n",
       "      <td>Dry</td>\n",
       "      <td>30</td>\n",
       "      <td>0:15</td>\n",
       "      <td>Urban</td>\n",
       "      <td>Fine no high winds</td>\n",
       "      <td>2005</td>\n",
       "    </tr>\n",
       "    <tr>\n",
       "      <th>200501BS00004</th>\n",
       "      <td>Slight</td>\n",
       "      <td>1/7/2005</td>\n",
       "      <td>Friday</td>\n",
       "      <td>Data missing or out of range</td>\n",
       "      <td>Not at junction or within 20 metres</td>\n",
       "      <td>51.482442</td>\n",
       "      <td>-0.173862</td>\n",
       "      <td>Daylight</td>\n",
       "      <td>Dry</td>\n",
       "      <td>30</td>\n",
       "      <td>10:35</td>\n",
       "      <td>Urban</td>\n",
       "      <td>Fine no high winds</td>\n",
       "      <td>2005</td>\n",
       "    </tr>\n",
       "    <tr>\n",
       "      <th>200501BS00005</th>\n",
       "      <td>Slight</td>\n",
       "      <td>1/10/2005</td>\n",
       "      <td>Monday</td>\n",
       "      <td>Data missing or out of range</td>\n",
       "      <td>Not at junction or within 20 metres</td>\n",
       "      <td>51.495752</td>\n",
       "      <td>-0.156618</td>\n",
       "      <td>Darkness - lighting unknown</td>\n",
       "      <td>Wet or damp</td>\n",
       "      <td>30</td>\n",
       "      <td>21:13</td>\n",
       "      <td>Urban</td>\n",
       "      <td>Fine no high winds</td>\n",
       "      <td>2005</td>\n",
       "    </tr>\n",
       "  </tbody>\n",
       "</table>\n",
       "</div>"
      ],
      "text/plain": [
       "              Severity       Date        Day               Traffic Control  \\\n",
       "Accident                                                                     \n",
       "200501BS00001  Serious   1/4/2005    Tuesday  Data missing or out of range   \n",
       "200501BS00002   Slight   1/5/2005  Wednesday           Auto traffic signal   \n",
       "200501BS00003   Slight   1/6/2005   Thursday  Data missing or out of range   \n",
       "200501BS00004   Slight   1/7/2005     Friday  Data missing or out of range   \n",
       "200501BS00005   Slight  1/10/2005     Monday  Data missing or out of range   \n",
       "\n",
       "                                     Junction Type   Latitude  Longitude  \\\n",
       "Accident                                                                   \n",
       "200501BS00001  Not at junction or within 20 metres  51.489096  -0.191170   \n",
       "200501BS00002                           Crossroads  51.520075  -0.211708   \n",
       "200501BS00003  Not at junction or within 20 metres  51.525301  -0.206458   \n",
       "200501BS00004  Not at junction or within 20 metres  51.482442  -0.173862   \n",
       "200501BS00005  Not at junction or within 20 metres  51.495752  -0.156618   \n",
       "\n",
       "                                     Light   Road Cond.  Speed Limit   Time  \\\n",
       "Accident                                                                      \n",
       "200501BS00001                     Daylight  Wet or damp           30  17:42   \n",
       "200501BS00002        Darkness - lights lit          Dry           30  17:36   \n",
       "200501BS00003        Darkness - lights lit          Dry           30   0:15   \n",
       "200501BS00004                     Daylight          Dry           30  10:35   \n",
       "200501BS00005  Darkness - lighting unknown  Wet or damp           30  21:13   \n",
       "\n",
       "              City Type                Weather  Year  \n",
       "Accident                                              \n",
       "200501BS00001     Urban  Raining no high winds  2005  \n",
       "200501BS00002     Urban     Fine no high winds  2005  \n",
       "200501BS00003     Urban     Fine no high winds  2005  \n",
       "200501BS00004     Urban     Fine no high winds  2005  \n",
       "200501BS00005     Urban     Fine no high winds  2005  "
      ]
     },
     "execution_count": 23,
     "metadata": {},
     "output_type": "execute_result"
    }
   ],
   "source": [
    "# preview of data\n",
    "df.head()"
   ]
  },
  {
   "cell_type": "markdown",
   "metadata": {},
   "source": [
    "## Date and Time Trends"
   ]
  },
  {
   "cell_type": "markdown",
   "metadata": {},
   "source": [
    "\n",
    "### by Bailey Passmore (@bailatrix) and Brooke Rodriguez (@brookemrod)"
   ]
  },
  {
   "cell_type": "markdown",
   "metadata": {},
   "source": [
    "Are certain times of day riskier to drive?"
   ]
  },
  {
   "cell_type": "code",
   "execution_count": 24,
   "metadata": {},
   "outputs": [],
   "source": [
    "# choose columns to work on\n",
    "time_df = pd.read_csv( path, parse_dates=[['Date', 'Time']] )\n",
    "time_df = time_df.rename(index=str, columns={\"Accident_Severity\": \"Severity\"})\n",
    "time_df = time_df[['Severity', 'Year', 'Date_Time']]"
   ]
  },
  {
   "cell_type": "code",
   "execution_count": 25,
   "metadata": {},
   "outputs": [
    {
     "data": {
      "text/html": [
       "<div>\n",
       "<style scoped>\n",
       "    .dataframe tbody tr th:only-of-type {\n",
       "        vertical-align: middle;\n",
       "    }\n",
       "\n",
       "    .dataframe tbody tr th {\n",
       "        vertical-align: top;\n",
       "    }\n",
       "\n",
       "    .dataframe thead th {\n",
       "        text-align: right;\n",
       "    }\n",
       "</style>\n",
       "<table border=\"1\" class=\"dataframe\">\n",
       "  <thead>\n",
       "    <tr style=\"text-align: right;\">\n",
       "      <th></th>\n",
       "      <th>Severity</th>\n",
       "      <th>Year</th>\n",
       "    </tr>\n",
       "    <tr>\n",
       "      <th>Date_Time</th>\n",
       "      <th></th>\n",
       "      <th></th>\n",
       "    </tr>\n",
       "  </thead>\n",
       "  <tbody>\n",
       "    <tr>\n",
       "      <th>2005-01-04 17:42:00</th>\n",
       "      <td>Serious</td>\n",
       "      <td>2005</td>\n",
       "    </tr>\n",
       "    <tr>\n",
       "      <th>2005-01-05 17:36:00</th>\n",
       "      <td>Slight</td>\n",
       "      <td>2005</td>\n",
       "    </tr>\n",
       "    <tr>\n",
       "      <th>2005-01-06 00:15:00</th>\n",
       "      <td>Slight</td>\n",
       "      <td>2005</td>\n",
       "    </tr>\n",
       "    <tr>\n",
       "      <th>2005-01-07 10:35:00</th>\n",
       "      <td>Slight</td>\n",
       "      <td>2005</td>\n",
       "    </tr>\n",
       "    <tr>\n",
       "      <th>2005-01-10 21:13:00</th>\n",
       "      <td>Slight</td>\n",
       "      <td>2005</td>\n",
       "    </tr>\n",
       "  </tbody>\n",
       "</table>\n",
       "</div>"
      ],
      "text/plain": [
       "                    Severity  Year\n",
       "Date_Time                         \n",
       "2005-01-04 17:42:00  Serious  2005\n",
       "2005-01-05 17:36:00   Slight  2005\n",
       "2005-01-06 00:15:00   Slight  2005\n",
       "2005-01-07 10:35:00   Slight  2005\n",
       "2005-01-10 21:13:00   Slight  2005"
      ]
     },
     "execution_count": 25,
     "metadata": {},
     "output_type": "execute_result"
    }
   ],
   "source": [
    "# join DataFrames and index using DateTimeIndex\n",
    "time_df = time_df.set_index('Date_Time')\n",
    "time_df.head()"
   ]
  },
  {
   "cell_type": "code",
   "execution_count": 26,
   "metadata": {
    "scrolled": true
   },
   "outputs": [
    {
     "data": {
      "text/html": [
       "<div>\n",
       "<style scoped>\n",
       "    .dataframe tbody tr th:only-of-type {\n",
       "        vertical-align: middle;\n",
       "    }\n",
       "\n",
       "    .dataframe tbody tr th {\n",
       "        vertical-align: top;\n",
       "    }\n",
       "\n",
       "    .dataframe thead th {\n",
       "        text-align: right;\n",
       "    }\n",
       "</style>\n",
       "<table border=\"1\" class=\"dataframe\">\n",
       "  <thead>\n",
       "    <tr style=\"text-align: right;\">\n",
       "      <th></th>\n",
       "      <th>Before\n",
       "4am</th>\n",
       "    </tr>\n",
       "    <tr>\n",
       "      <th>Severity</th>\n",
       "      <th></th>\n",
       "    </tr>\n",
       "  </thead>\n",
       "  <tbody>\n",
       "    <tr>\n",
       "      <th>Fatal</th>\n",
       "      <td>177</td>\n",
       "    </tr>\n",
       "    <tr>\n",
       "      <th>Serious</th>\n",
       "      <td>1315</td>\n",
       "    </tr>\n",
       "    <tr>\n",
       "      <th>Slight</th>\n",
       "      <td>5372</td>\n",
       "    </tr>\n",
       "  </tbody>\n",
       "</table>\n",
       "</div>"
      ],
      "text/plain": [
       "          Before\\n4am\n",
       "Severity             \n",
       "Fatal             177\n",
       "Serious          1315\n",
       "Slight           5372"
      ]
     },
     "execution_count": 26,
     "metadata": {},
     "output_type": "execute_result"
    }
   ],
   "source": [
    "weehours = time_df.between_time( '0:00', '3:59' )\n",
    "weehours = weehours.reset_index()\n",
    "weehours_gb = weehours.groupby( ['Severity'] ).count()\n",
    "weehours = pd.DataFrame( weehours_gb )[['Date_Time']]\n",
    "\n",
    "weehours = weehours.rename( columns={\"Date_Time\":\"Before\\n4am\"})\n",
    "weehours"
   ]
  },
  {
   "cell_type": "code",
   "execution_count": 27,
   "metadata": {},
   "outputs": [
    {
     "data": {
      "text/html": [
       "<div>\n",
       "<style scoped>\n",
       "    .dataframe tbody tr th:only-of-type {\n",
       "        vertical-align: middle;\n",
       "    }\n",
       "\n",
       "    .dataframe tbody tr th {\n",
       "        vertical-align: top;\n",
       "    }\n",
       "\n",
       "    .dataframe thead th {\n",
       "        text-align: right;\n",
       "    }\n",
       "</style>\n",
       "<table border=\"1\" class=\"dataframe\">\n",
       "  <thead>\n",
       "    <tr style=\"text-align: right;\">\n",
       "      <th></th>\n",
       "      <th>Between\n",
       "4am - 8am</th>\n",
       "    </tr>\n",
       "    <tr>\n",
       "      <th>Severity</th>\n",
       "      <th></th>\n",
       "    </tr>\n",
       "  </thead>\n",
       "  <tbody>\n",
       "    <tr>\n",
       "      <th>Fatal</th>\n",
       "      <td>116</td>\n",
       "    </tr>\n",
       "    <tr>\n",
       "      <th>Serious</th>\n",
       "      <td>1603</td>\n",
       "    </tr>\n",
       "    <tr>\n",
       "      <th>Slight</th>\n",
       "      <td>8912</td>\n",
       "    </tr>\n",
       "  </tbody>\n",
       "</table>\n",
       "</div>"
      ],
      "text/plain": [
       "          Between\\n4am - 8am\n",
       "Severity                    \n",
       "Fatal                    116\n",
       "Serious                 1603\n",
       "Slight                  8912"
      ]
     },
     "execution_count": 27,
     "metadata": {},
     "output_type": "execute_result"
    }
   ],
   "source": [
    "early = time_df.between_time( '4:00', '7:59' )\n",
    "early = early.reset_index()\n",
    "early_gb = early.groupby( ['Severity'] ).count()\n",
    "early = pd.DataFrame( early_gb )[['Date_Time']]\n",
    "\n",
    "early = early.rename( columns={\"Date_Time\":\"Between\\n4am - 8am\"})\n",
    "early"
   ]
  },
  {
   "cell_type": "code",
   "execution_count": 28,
   "metadata": {},
   "outputs": [
    {
     "data": {
      "text/html": [
       "<div>\n",
       "<style scoped>\n",
       "    .dataframe tbody tr th:only-of-type {\n",
       "        vertical-align: middle;\n",
       "    }\n",
       "\n",
       "    .dataframe tbody tr th {\n",
       "        vertical-align: top;\n",
       "    }\n",
       "\n",
       "    .dataframe thead th {\n",
       "        text-align: right;\n",
       "    }\n",
       "</style>\n",
       "<table border=\"1\" class=\"dataframe\">\n",
       "  <thead>\n",
       "    <tr style=\"text-align: right;\">\n",
       "      <th></th>\n",
       "      <th>Between\n",
       "8am - noon</th>\n",
       "    </tr>\n",
       "    <tr>\n",
       "      <th>Severity</th>\n",
       "      <th></th>\n",
       "    </tr>\n",
       "  </thead>\n",
       "  <tbody>\n",
       "    <tr>\n",
       "      <th>Fatal</th>\n",
       "      <td>189</td>\n",
       "    </tr>\n",
       "    <tr>\n",
       "      <th>Serious</th>\n",
       "      <td>3507</td>\n",
       "    </tr>\n",
       "    <tr>\n",
       "      <th>Slight</th>\n",
       "      <td>27562</td>\n",
       "    </tr>\n",
       "  </tbody>\n",
       "</table>\n",
       "</div>"
      ],
      "text/plain": [
       "          Between\\n8am - noon\n",
       "Severity                     \n",
       "Fatal                     189\n",
       "Serious                  3507\n",
       "Slight                  27562"
      ]
     },
     "execution_count": 28,
     "metadata": {},
     "output_type": "execute_result"
    }
   ],
   "source": [
    "rushhour = time_df.between_time( '8:00', '11:59' )\n",
    "rushhour = rushhour.reset_index()\n",
    "rushhour_gb = rushhour.groupby( ['Severity'] ).count()\n",
    "rushhour = pd.DataFrame( rushhour_gb )[['Date_Time']]\n",
    "\n",
    "rushhour = rushhour.rename( columns={\"Date_Time\":\"Between\\n8am - noon\"})\n",
    "rushhour"
   ]
  },
  {
   "cell_type": "code",
   "execution_count": 29,
   "metadata": {},
   "outputs": [
    {
     "data": {
      "text/html": [
       "<div>\n",
       "<style scoped>\n",
       "    .dataframe tbody tr th:only-of-type {\n",
       "        vertical-align: middle;\n",
       "    }\n",
       "\n",
       "    .dataframe tbody tr th {\n",
       "        vertical-align: top;\n",
       "    }\n",
       "\n",
       "    .dataframe thead th {\n",
       "        text-align: right;\n",
       "    }\n",
       "</style>\n",
       "<table border=\"1\" class=\"dataframe\">\n",
       "  <thead>\n",
       "    <tr style=\"text-align: right;\">\n",
       "      <th></th>\n",
       "      <th>Between\n",
       "noon - 4pm</th>\n",
       "    </tr>\n",
       "    <tr>\n",
       "      <th>Severity</th>\n",
       "      <th></th>\n",
       "    </tr>\n",
       "  </thead>\n",
       "  <tbody>\n",
       "    <tr>\n",
       "      <th>Fatal</th>\n",
       "      <td>186</td>\n",
       "    </tr>\n",
       "    <tr>\n",
       "      <th>Serious</th>\n",
       "      <td>4040</td>\n",
       "    </tr>\n",
       "    <tr>\n",
       "      <th>Slight</th>\n",
       "      <td>31082</td>\n",
       "    </tr>\n",
       "  </tbody>\n",
       "</table>\n",
       "</div>"
      ],
      "text/plain": [
       "          Between\\nnoon - 4pm\n",
       "Severity                     \n",
       "Fatal                     186\n",
       "Serious                  4040\n",
       "Slight                  31082"
      ]
     },
     "execution_count": 29,
     "metadata": {},
     "output_type": "execute_result"
    }
   ],
   "source": [
    "afternoon = time_df.between_time( '12:00', '15:59' )\n",
    "afternoon = afternoon.reset_index()\n",
    "afternoon_gb = afternoon.groupby( ['Severity'] ).count()\n",
    "afternoon = pd.DataFrame( afternoon_gb )[['Date_Time']]\n",
    "\n",
    "afternoon = afternoon.rename( columns={\"Date_Time\":\"Between\\nnoon - 4pm\"})\n",
    "afternoon"
   ]
  },
  {
   "cell_type": "code",
   "execution_count": 30,
   "metadata": {},
   "outputs": [
    {
     "data": {
      "text/html": [
       "<div>\n",
       "<style scoped>\n",
       "    .dataframe tbody tr th:only-of-type {\n",
       "        vertical-align: middle;\n",
       "    }\n",
       "\n",
       "    .dataframe tbody tr th {\n",
       "        vertical-align: top;\n",
       "    }\n",
       "\n",
       "    .dataframe thead th {\n",
       "        text-align: right;\n",
       "    }\n",
       "</style>\n",
       "<table border=\"1\" class=\"dataframe\">\n",
       "  <thead>\n",
       "    <tr style=\"text-align: right;\">\n",
       "      <th></th>\n",
       "      <th>Between\n",
       "4pm - 8pm</th>\n",
       "    </tr>\n",
       "    <tr>\n",
       "      <th>Severity</th>\n",
       "      <th></th>\n",
       "    </tr>\n",
       "  </thead>\n",
       "  <tbody>\n",
       "    <tr>\n",
       "      <th>Fatal</th>\n",
       "      <td>268</td>\n",
       "    </tr>\n",
       "    <tr>\n",
       "      <th>Serious</th>\n",
       "      <td>5009</td>\n",
       "    </tr>\n",
       "    <tr>\n",
       "      <th>Slight</th>\n",
       "      <td>36311</td>\n",
       "    </tr>\n",
       "  </tbody>\n",
       "</table>\n",
       "</div>"
      ],
      "text/plain": [
       "          Between\\n4pm - 8pm\n",
       "Severity                    \n",
       "Fatal                    268\n",
       "Serious                 5009\n",
       "Slight                 36311"
      ]
     },
     "execution_count": 30,
     "metadata": {},
     "output_type": "execute_result"
    }
   ],
   "source": [
    "evening = time_df.between_time( '16:00', '19:59' )\n",
    "evening = evening.reset_index()\n",
    "evening_gb = evening.groupby( ['Severity'] ).count()\n",
    "evening = pd.DataFrame( evening_gb )[['Date_Time']]\n",
    "\n",
    "evening = evening.rename( columns={\"Date_Time\":\"Between\\n4pm - 8pm\"})\n",
    "evening"
   ]
  },
  {
   "cell_type": "code",
   "execution_count": 31,
   "metadata": {},
   "outputs": [
    {
     "data": {
      "text/html": [
       "<div>\n",
       "<style scoped>\n",
       "    .dataframe tbody tr th:only-of-type {\n",
       "        vertical-align: middle;\n",
       "    }\n",
       "\n",
       "    .dataframe tbody tr th {\n",
       "        vertical-align: top;\n",
       "    }\n",
       "\n",
       "    .dataframe thead th {\n",
       "        text-align: right;\n",
       "    }\n",
       "</style>\n",
       "<table border=\"1\" class=\"dataframe\">\n",
       "  <thead>\n",
       "    <tr style=\"text-align: right;\">\n",
       "      <th></th>\n",
       "      <th>8pm -\n",
       "midnight</th>\n",
       "    </tr>\n",
       "    <tr>\n",
       "      <th>Severity</th>\n",
       "      <th></th>\n",
       "    </tr>\n",
       "  </thead>\n",
       "  <tbody>\n",
       "    <tr>\n",
       "      <th>Fatal</th>\n",
       "      <td>195</td>\n",
       "    </tr>\n",
       "    <tr>\n",
       "      <th>Serious</th>\n",
       "      <td>2891</td>\n",
       "    </tr>\n",
       "    <tr>\n",
       "      <th>Slight</th>\n",
       "      <td>16487</td>\n",
       "    </tr>\n",
       "  </tbody>\n",
       "</table>\n",
       "</div>"
      ],
      "text/plain": [
       "          8pm -\\nmidnight\n",
       "Severity                 \n",
       "Fatal                 195\n",
       "Serious              2891\n",
       "Slight              16487"
      ]
     },
     "execution_count": 31,
     "metadata": {},
     "output_type": "execute_result"
    }
   ],
   "source": [
    "night = time_df.between_time( '20:00', '23:59' )\n",
    "night = night.reset_index()\n",
    "night_gb = night.groupby( ['Severity'] ).count()\n",
    "night = pd.DataFrame( night_gb )[['Date_Time']]\n",
    "\n",
    "night = night.rename( columns={\"Date_Time\":\"8pm -\\nmidnight\"})\n",
    "night"
   ]
  },
  {
   "cell_type": "code",
   "execution_count": 32,
   "metadata": {},
   "outputs": [
    {
     "data": {
      "text/html": [
       "<div>\n",
       "<style scoped>\n",
       "    .dataframe tbody tr th:only-of-type {\n",
       "        vertical-align: middle;\n",
       "    }\n",
       "\n",
       "    .dataframe tbody tr th {\n",
       "        vertical-align: top;\n",
       "    }\n",
       "\n",
       "    .dataframe thead th {\n",
       "        text-align: right;\n",
       "    }\n",
       "</style>\n",
       "<table border=\"1\" class=\"dataframe\">\n",
       "  <thead>\n",
       "    <tr style=\"text-align: right;\">\n",
       "      <th></th>\n",
       "      <th>Before\n",
       "4am</th>\n",
       "      <th>Between\n",
       "4am - 8am</th>\n",
       "      <th>Between\n",
       "8am - noon</th>\n",
       "      <th>Between\n",
       "noon - 4pm</th>\n",
       "      <th>Between\n",
       "4pm - 8pm</th>\n",
       "      <th>8pm -\n",
       "midnight</th>\n",
       "    </tr>\n",
       "    <tr>\n",
       "      <th>Severity</th>\n",
       "      <th></th>\n",
       "      <th></th>\n",
       "      <th></th>\n",
       "      <th></th>\n",
       "      <th></th>\n",
       "      <th></th>\n",
       "    </tr>\n",
       "  </thead>\n",
       "  <tbody>\n",
       "    <tr>\n",
       "      <th>Fatal</th>\n",
       "      <td>177</td>\n",
       "      <td>116</td>\n",
       "      <td>189</td>\n",
       "      <td>186</td>\n",
       "      <td>268</td>\n",
       "      <td>195</td>\n",
       "    </tr>\n",
       "    <tr>\n",
       "      <th>Serious</th>\n",
       "      <td>1315</td>\n",
       "      <td>1603</td>\n",
       "      <td>3507</td>\n",
       "      <td>4040</td>\n",
       "      <td>5009</td>\n",
       "      <td>2891</td>\n",
       "    </tr>\n",
       "    <tr>\n",
       "      <th>Slight</th>\n",
       "      <td>5372</td>\n",
       "      <td>8912</td>\n",
       "      <td>27562</td>\n",
       "      <td>31082</td>\n",
       "      <td>36311</td>\n",
       "      <td>16487</td>\n",
       "    </tr>\n",
       "  </tbody>\n",
       "</table>\n",
       "</div>"
      ],
      "text/plain": [
       "          Before\\n4am  Between\\n4am - 8am  Between\\n8am - noon  \\\n",
       "Severity                                                         \n",
       "Fatal             177                 116                  189   \n",
       "Serious          1315                1603                 3507   \n",
       "Slight           5372                8912                27562   \n",
       "\n",
       "          Between\\nnoon - 4pm  Between\\n4pm - 8pm  8pm -\\nmidnight  \n",
       "Severity                                                            \n",
       "Fatal                     186                 268              195  \n",
       "Serious                  4040                5009             2891  \n",
       "Slight                  31082               36311            16487  "
      ]
     },
     "execution_count": 32,
     "metadata": {},
     "output_type": "execute_result"
    }
   ],
   "source": [
    "times_df = weehours.join( early ).join( rushhour ).join( afternoon).join( evening ).join( night )\n",
    "times_df"
   ]
  },
  {
   "cell_type": "code",
   "execution_count": 33,
   "metadata": {},
   "outputs": [
    {
     "data": {
      "image/png": "[encoded data removed]",
      "text/plain": [
       "<Figure size 1080x792 with 3 Axes>"
      ]
     },
     "metadata": {
      "needs_background": "light"
     },
     "output_type": "display_data"
    }
   ],
   "source": [
    "# Setup top graph\n",
    "ax1_df = pd.DataFrame({'times': times_df.columns, 'accidents': [177,116,189,186,268,195]})\n",
    "ax1 = plt.subplot2grid((2, 2), (0, 0), colspan=2)\n",
    "ax1.plot( 'times', 'accidents', data=ax1_df,\n",
    "         marker='o', markersize=10.0, linewidth=5.0, color=\"black\", alpha=0.6)\n",
    "plt.grid( True )\n",
    "\n",
    "# Setup left graph\n",
    "ax2_df = pd.DataFrame({'times': times_df.columns, 'accidents': [1315,1603,3507,4040,5009,2891]})\n",
    "ax2 = plt.subplot2grid((2, 2), (1, 0), colspan=1)\n",
    "ax2.plot( 'times', 'accidents', data=ax2_df,\n",
    "         marker='o', markersize=10.0, linewidth=5.0, color=\"yellow\", alpha=0.9)\n",
    "plt.grid( True )\n",
    "\n",
    "# Setup right graph\n",
    "ax3_df = pd.DataFrame({'times': times_df.columns, 'accidents': [5372,8912,27562,31082,36311,16487]})\n",
    "ax3 = plt.subplot2grid((2, 2), (1, 1), colspan=1)\n",
    "ax3.plot( 'times', 'accidents', data=ax3_df, label=\"Number of Slight Accidents by Time\",\n",
    "         marker='o', markersize=10.0, linewidth=5.0, color=\"lightblue\", alpha=0.9)\n",
    "plt.grid( True )\n",
    "\n",
    "# Label graphs\n",
    "#      Top graph\n",
    "ax1.set_xticklabels( labels=times_df.columns, fontsize='large' )\n",
    "ax1.set_title( label=\"Number of Fatal Accidents by Time\", pad=20,\n",
    "              fontdict={'fontweight': 'bold', 'fontsize': 25} )\n",
    "ax1.set_xlabel( \"Time of Day\", labelpad=15, fontweight='bold', fontsize='x-large' )\n",
    "ax1.set_ylabel( \"Number of Accidents\", labelpad=15, fontweight='bold', fontsize='x-large' )\n",
    "\n",
    "#      Left graph\n",
    "ax2.set_title( label=\"Number of Serious Accidents by Time\", pad=12,\n",
    "              fontdict={'fontweight': 'bold', 'fontsize': 15} )\n",
    "ax2.set_xlabel( \"Time of Day\", labelpad=15, fontweight='bold', fontsize='large' )\n",
    "ax2.set_ylabel( \"Number of Accidents\", labelpad=15, fontweight='bold', fontsize='large' )\n",
    "\n",
    "#      Right graph\n",
    "ax3.set_title( label=\"Number of Minor Accidents by Time\", pad=12,\n",
    "              fontdict={'fontweight': 'bold', 'fontsize': 15} )\n",
    "ax3.set_xlabel( \"Time of Day\", labelpad=15, fontweight='bold', fontsize='large' )\n",
    "ax3.set_ylabel( \"Number of Accidents\", labelpad=15, fontweight='bold', fontsize='large' )\n",
    "\n",
    "# Fill graph backgrounds\n",
    "ax1.set_facecolor( '0.99' )\n",
    "ax2.set_facecolor( '0.99' )\n",
    "ax3.set_facecolor( '0.99' )\n",
    "\n",
    "# Setup spacing of graphs\n",
    "plt.gcf().set_size_inches(15, 11)\n",
    "plt.subplots_adjust( wspace=0.35, hspace = 0.5 )\n",
    "\n",
    "# Save figure as .png\n",
    "plt.savefig( \"./Visuals/time_vs_severity.png\", bbox='tight')"
   ]
  },
  {
   "cell_type": "markdown",
   "metadata": {},
   "source": [
    "### by Tim Barry (@timothybarry)"
   ]
  },
  {
   "cell_type": "markdown",
   "metadata": {},
   "source": [
    "Are accidents more severe in urban areas?"
   ]
  },
  {
   "cell_type": "code",
   "execution_count": 10,
   "metadata": {},
   "outputs": [
    {
     "data": {
      "application/vnd.jupyter.widget-view+json": {
       "model_id": "e620dd5fb9f4435fb90b000a653aaad7",
       "version_major": 2,
       "version_minor": 0
      },
      "text/plain": [
       "Figure(layout=FigureLayout(height='420px'))"
      ]
     },
     "metadata": {},
     "output_type": "display_data"
    }
   ],
   "source": [
    "# Store latitude and longitude in locations\n",
    "locations = df[[\"Latitude\", \"Longitude\"]]\n",
    "\n",
    "# Fill NaN values and convert to float\n",
    "df_sev = df[\"Severity\"]\n",
    "\n",
    "#convert severity into 1 2 or 3 in a new list\n",
    "new_list = []\n",
    "for severity_value in df_sev:\n",
    "   if severity_value == \"Slight\":\n",
    "       new_list.append(.05)\n",
    "   if severity_value == \"Serious\":\n",
    "       new_list.append(.5)\n",
    "   if severity_value == \"Fatal\":\n",
    "       new_list.append(5)\n",
    "\n",
    "# Plot Heatmap\n",
    "map = gmaps.figure()\n",
    "\n",
    "# Create heat layer\n",
    "heat_layer = gmaps.heatmap_layer(locations, weights = new_list,\n",
    "                                dissipating=False, max_intensity=2,\n",
    "                                point_radius=.0027)\n",
    "\n",
    "# Add layer\n",
    "map.add_layer(heat_layer)\n",
    "\n",
    "# Display figure\n",
    "map"
   ]
  },
  {
   "cell_type": "markdown",
   "metadata": {},
   "source": [
    "### by Tim Barry (@timothybarry) and Bailey Passmore (@bailatrix)"
   ]
  },
  {
   "cell_type": "markdown",
   "metadata": {},
   "source": [
    "Is there a day of the week that's the worst to drive on?"
   ]
  },
  {
   "cell_type": "code",
   "execution_count": 34,
   "metadata": {},
   "outputs": [],
   "source": [
    "# re-format/style data for trend3\n",
    "Day_of_week = [\"Monday\" , \"Tuesday\", \"Wednesday\" , \"Thursday\" , \"Friday\" , \"Saturday\" , \"Sunday\" ]\n",
    "Accidents = [20533, 22399 , 22607 , 21856 , 23357 , 19077 , 15393]"
   ]
  },
  {
   "cell_type": "code",
   "execution_count": 35,
   "metadata": {},
   "outputs": [
    {
     "data": {
      "image/png": "[encoded data removed]",
      "text/plain": [
       "<Figure size 1008x432 with 1 Axes>"
      ]
     },
     "metadata": {
      "needs_background": "light"
     },
     "output_type": "display_data"
    },
    {
     "data": {
      "text/plain": [
       "<Figure size 432x288 with 0 Axes>"
      ]
     },
     "metadata": {},
     "output_type": "display_data"
    }
   ],
   "source": [
    "# manipulate data\n",
    "# setup analysis\n",
    "x_axis = np.arange(0, len(Day_of_week))\n",
    "tick_locations = []\n",
    "for x in x_axis:\n",
    "   tick_locations.append(x)\n",
    "\n",
    "# setup limits\n",
    "plt.xlim(-0.75, len(Day_of_week)-.25)\n",
    "plt.ylim(10000, max(Accidents) + 1000, 5000)\n",
    "\n",
    "# setup labels\n",
    "plt.title( \"Total Accidents by Day Of Week\", pad=18,\n",
    "          fontdict={'fontweight': 'bold', 'fontsize': 'xx-large'} )\n",
    "plt.xlabel(\"Day\", labelpad=15, fontweight='bold', fontsize='x-large')\n",
    "plt.ylabel(\"Number of Accidents\", labelpad=15, fontweight='bold', fontsize='x-large')\n",
    "\n",
    "\n",
    "# plot specifications\n",
    "plt.bar(x_axis, Accidents, facecolor=\"lightblue\", alpha=1, align=\"center\")\n",
    "plt.xticks(tick_locations, Day_of_week, fontsize='large')\n",
    "\n",
    "# visualization of data\n",
    "plt.gcf().set_size_inches(14, 6)\n",
    "plt.show()\n",
    "\n",
    "# Save figure as .png\n",
    "plt.savefig( \"./Visuals/day_vs_severity.png\", bbox='tight')"
   ]
  },
  {
   "cell_type": "markdown",
   "metadata": {},
   "source": [
    "### Are certain months worse for accident likeliness?"
   ]
  },
  {
   "cell_type": "markdown",
   "metadata": {},
   "source": [
    "#### by Bailey Passmore (@bailatrix)"
   ]
  },
  {
   "cell_type": "code",
   "execution_count": 36,
   "metadata": {},
   "outputs": [
    {
     "data": {
      "text/html": [
       "<div>\n",
       "<style scoped>\n",
       "    .dataframe tbody tr th:only-of-type {\n",
       "        vertical-align: middle;\n",
       "    }\n",
       "\n",
       "    .dataframe tbody tr th {\n",
       "        vertical-align: top;\n",
       "    }\n",
       "\n",
       "    .dataframe thead th {\n",
       "        text-align: right;\n",
       "    }\n",
       "</style>\n",
       "<table border=\"1\" class=\"dataframe\">\n",
       "  <thead>\n",
       "    <tr style=\"text-align: right;\">\n",
       "      <th></th>\n",
       "      <th>Severity</th>\n",
       "      <th>Year</th>\n",
       "    </tr>\n",
       "    <tr>\n",
       "      <th>Accident</th>\n",
       "      <th></th>\n",
       "      <th></th>\n",
       "    </tr>\n",
       "  </thead>\n",
       "  <tbody>\n",
       "    <tr>\n",
       "      <th>200501BS00001</th>\n",
       "      <td>Serious</td>\n",
       "      <td>2005</td>\n",
       "    </tr>\n",
       "    <tr>\n",
       "      <th>200501BS00002</th>\n",
       "      <td>Slight</td>\n",
       "      <td>2005</td>\n",
       "    </tr>\n",
       "    <tr>\n",
       "      <th>200501BS00003</th>\n",
       "      <td>Slight</td>\n",
       "      <td>2005</td>\n",
       "    </tr>\n",
       "    <tr>\n",
       "      <th>200501BS00004</th>\n",
       "      <td>Slight</td>\n",
       "      <td>2005</td>\n",
       "    </tr>\n",
       "    <tr>\n",
       "      <th>200501BS00005</th>\n",
       "      <td>Slight</td>\n",
       "      <td>2005</td>\n",
       "    </tr>\n",
       "  </tbody>\n",
       "</table>\n",
       "</div>"
      ],
      "text/plain": [
       "              Severity  Year\n",
       "Accident                    \n",
       "200501BS00001  Serious  2005\n",
       "200501BS00002   Slight  2005\n",
       "200501BS00003   Slight  2005\n",
       "200501BS00004   Slight  2005\n",
       "200501BS00005   Slight  2005"
      ]
     },
     "execution_count": 36,
     "metadata": {},
     "output_type": "execute_result"
    }
   ],
   "source": [
    "# choose columns to work on\n",
    "month_df = df[['Severity', 'Year']]\n",
    "month_df.head()"
   ]
  },
  {
   "cell_type": "code",
   "execution_count": 37,
   "metadata": {},
   "outputs": [
    {
     "data": {
      "text/plain": [
       "Accident\n",
       "200501BS00001    1\n",
       "200501BS00002    1\n",
       "200501BS00003    1\n",
       "200501BS00004    1\n",
       "200501BS00005    1\n",
       "Name: Date, dtype: int64"
      ]
     },
     "execution_count": 37,
     "metadata": {},
     "output_type": "execute_result"
    }
   ],
   "source": [
    "month_ser = pd.to_datetime(df['Date'],format= '%m/%d/%Y' ).dt.month\n",
    "month_ser.head()"
   ]
  },
  {
   "cell_type": "code",
   "execution_count": 38,
   "metadata": {},
   "outputs": [],
   "source": [
    "# relabel values as months\n",
    "month_ser = month_ser.replace({\n",
    "            1: \"January\",\n",
    "            2: \"February\",\n",
    "            3: \"March\",\n",
    "            4: \"April\",\n",
    "            5: \"May\",\n",
    "            6: \"June\",\n",
    "            7: \"July\",\n",
    "            8: \"August\",\n",
    "            9: \"September\",\n",
    "            10: \"October\",\n",
    "            11: \"November\",\n",
    "            12: \"December\"})\n",
    "\n",
    "# convert back to DataFrame\n",
    "month_ser = month_ser.to_frame()\n",
    "month_ser = month_ser.rename( columns={'Date': 'Month'} )\n",
    "month_ser.head()\n",
    "\n",
    "# merge DataFrames\n",
    "months = month_df.join( month_ser )"
   ]
  },
  {
   "cell_type": "code",
   "execution_count": 39,
   "metadata": {},
   "outputs": [
    {
     "data": {
      "text/html": [
       "<div>\n",
       "<style scoped>\n",
       "    .dataframe tbody tr th:only-of-type {\n",
       "        vertical-align: middle;\n",
       "    }\n",
       "\n",
       "    .dataframe tbody tr th {\n",
       "        vertical-align: top;\n",
       "    }\n",
       "\n",
       "    .dataframe thead th {\n",
       "        text-align: right;\n",
       "    }\n",
       "</style>\n",
       "<table border=\"1\" class=\"dataframe\">\n",
       "  <thead>\n",
       "    <tr style=\"text-align: right;\">\n",
       "      <th></th>\n",
       "      <th>Severity</th>\n",
       "      <th>Year</th>\n",
       "      <th>Month</th>\n",
       "    </tr>\n",
       "    <tr>\n",
       "      <th>Accident</th>\n",
       "      <th></th>\n",
       "      <th></th>\n",
       "      <th></th>\n",
       "    </tr>\n",
       "  </thead>\n",
       "  <tbody>\n",
       "    <tr>\n",
       "      <th>200501BS00001</th>\n",
       "      <td>Serious</td>\n",
       "      <td>2005</td>\n",
       "      <td>January</td>\n",
       "    </tr>\n",
       "    <tr>\n",
       "      <th>200501BS00002</th>\n",
       "      <td>Slight</td>\n",
       "      <td>2005</td>\n",
       "      <td>January</td>\n",
       "    </tr>\n",
       "    <tr>\n",
       "      <th>200501BS00003</th>\n",
       "      <td>Slight</td>\n",
       "      <td>2005</td>\n",
       "      <td>January</td>\n",
       "    </tr>\n",
       "    <tr>\n",
       "      <th>200501BS00004</th>\n",
       "      <td>Slight</td>\n",
       "      <td>2005</td>\n",
       "      <td>January</td>\n",
       "    </tr>\n",
       "    <tr>\n",
       "      <th>200501BS00005</th>\n",
       "      <td>Slight</td>\n",
       "      <td>2005</td>\n",
       "      <td>January</td>\n",
       "    </tr>\n",
       "    <tr>\n",
       "      <th>200501BS00006</th>\n",
       "      <td>Slight</td>\n",
       "      <td>2005</td>\n",
       "      <td>January</td>\n",
       "    </tr>\n",
       "    <tr>\n",
       "      <th>200501BS00007</th>\n",
       "      <td>Slight</td>\n",
       "      <td>2005</td>\n",
       "      <td>January</td>\n",
       "    </tr>\n",
       "    <tr>\n",
       "      <th>200501BS00009</th>\n",
       "      <td>Slight</td>\n",
       "      <td>2005</td>\n",
       "      <td>January</td>\n",
       "    </tr>\n",
       "    <tr>\n",
       "      <th>200501BS00010</th>\n",
       "      <td>Slight</td>\n",
       "      <td>2005</td>\n",
       "      <td>January</td>\n",
       "    </tr>\n",
       "    <tr>\n",
       "      <th>200501BS00011</th>\n",
       "      <td>Slight</td>\n",
       "      <td>2005</td>\n",
       "      <td>January</td>\n",
       "    </tr>\n",
       "  </tbody>\n",
       "</table>\n",
       "</div>"
      ],
      "text/plain": [
       "              Severity  Year    Month\n",
       "Accident                             \n",
       "200501BS00001  Serious  2005  January\n",
       "200501BS00002   Slight  2005  January\n",
       "200501BS00003   Slight  2005  January\n",
       "200501BS00004   Slight  2005  January\n",
       "200501BS00005   Slight  2005  January\n",
       "200501BS00006   Slight  2005  January\n",
       "200501BS00007   Slight  2005  January\n",
       "200501BS00009   Slight  2005  January\n",
       "200501BS00010   Slight  2005  January\n",
       "200501BS00011   Slight  2005  January"
      ]
     },
     "execution_count": 39,
     "metadata": {},
     "output_type": "execute_result"
    }
   ],
   "source": [
    "months.head(10)"
   ]
  },
  {
   "cell_type": "code",
   "execution_count": 40,
   "metadata": {},
   "outputs": [
    {
     "data": {
      "text/html": [
       "<div>\n",
       "<style scoped>\n",
       "    .dataframe tbody tr th:only-of-type {\n",
       "        vertical-align: middle;\n",
       "    }\n",
       "\n",
       "    .dataframe tbody tr th {\n",
       "        vertical-align: top;\n",
       "    }\n",
       "\n",
       "    .dataframe thead th {\n",
       "        text-align: right;\n",
       "    }\n",
       "</style>\n",
       "<table border=\"1\" class=\"dataframe\">\n",
       "  <thead>\n",
       "    <tr style=\"text-align: right;\">\n",
       "      <th>Severity</th>\n",
       "      <th>Fatal</th>\n",
       "      <th>Serious</th>\n",
       "      <th>Slight</th>\n",
       "    </tr>\n",
       "    <tr>\n",
       "      <th>Month</th>\n",
       "      <th></th>\n",
       "      <th></th>\n",
       "      <th></th>\n",
       "    </tr>\n",
       "  </thead>\n",
       "  <tbody>\n",
       "    <tr>\n",
       "      <th>April</th>\n",
       "      <td>87</td>\n",
       "      <td>1478</td>\n",
       "      <td>9878</td>\n",
       "    </tr>\n",
       "    <tr>\n",
       "      <th>August</th>\n",
       "      <td>90</td>\n",
       "      <td>1478</td>\n",
       "      <td>9943</td>\n",
       "    </tr>\n",
       "    <tr>\n",
       "      <th>December</th>\n",
       "      <td>117</td>\n",
       "      <td>1321</td>\n",
       "      <td>9309</td>\n",
       "    </tr>\n",
       "    <tr>\n",
       "      <th>February</th>\n",
       "      <td>86</td>\n",
       "      <td>1298</td>\n",
       "      <td>8923</td>\n",
       "    </tr>\n",
       "    <tr>\n",
       "      <th>January</th>\n",
       "      <td>91</td>\n",
       "      <td>1382</td>\n",
       "      <td>9308</td>\n",
       "    </tr>\n",
       "    <tr>\n",
       "      <th>July</th>\n",
       "      <td>95</td>\n",
       "      <td>1630</td>\n",
       "      <td>11342</td>\n",
       "    </tr>\n",
       "    <tr>\n",
       "      <th>June</th>\n",
       "      <td>99</td>\n",
       "      <td>1713</td>\n",
       "      <td>11247</td>\n",
       "    </tr>\n",
       "    <tr>\n",
       "      <th>March</th>\n",
       "      <td>81</td>\n",
       "      <td>1554</td>\n",
       "      <td>10286</td>\n",
       "    </tr>\n",
       "    <tr>\n",
       "      <th>May</th>\n",
       "      <td>71</td>\n",
       "      <td>1616</td>\n",
       "      <td>11125</td>\n",
       "    </tr>\n",
       "    <tr>\n",
       "      <th>November</th>\n",
       "      <td>104</td>\n",
       "      <td>1635</td>\n",
       "      <td>11381</td>\n",
       "    </tr>\n",
       "    <tr>\n",
       "      <th>October</th>\n",
       "      <td>110</td>\n",
       "      <td>1688</td>\n",
       "      <td>11702</td>\n",
       "    </tr>\n",
       "    <tr>\n",
       "      <th>September</th>\n",
       "      <td>100</td>\n",
       "      <td>1572</td>\n",
       "      <td>11282</td>\n",
       "    </tr>\n",
       "  </tbody>\n",
       "</table>\n",
       "</div>"
      ],
      "text/plain": [
       "Severity   Fatal  Serious  Slight\n",
       "Month                            \n",
       "April         87     1478    9878\n",
       "August        90     1478    9943\n",
       "December     117     1321    9309\n",
       "February      86     1298    8923\n",
       "January       91     1382    9308\n",
       "July          95     1630   11342\n",
       "June          99     1713   11247\n",
       "March         81     1554   10286\n",
       "May           71     1616   11125\n",
       "November     104     1635   11381\n",
       "October      110     1688   11702\n",
       "September    100     1572   11282"
      ]
     },
     "execution_count": 40,
     "metadata": {},
     "output_type": "execute_result"
    }
   ],
   "source": [
    "# make pivot table for month v. severity\n",
    "piv = months.pivot_table( values='Year', index='Month', columns='Severity', aggfunc=len )\n",
    "piv"
   ]
  },
  {
   "cell_type": "code",
   "execution_count": 41,
   "metadata": {},
   "outputs": [
    {
     "data": {
      "text/html": [
       "<div>\n",
       "<style scoped>\n",
       "    .dataframe tbody tr th:only-of-type {\n",
       "        vertical-align: middle;\n",
       "    }\n",
       "\n",
       "    .dataframe tbody tr th {\n",
       "        vertical-align: top;\n",
       "    }\n",
       "\n",
       "    .dataframe thead th {\n",
       "        text-align: right;\n",
       "    }\n",
       "</style>\n",
       "<table border=\"1\" class=\"dataframe\">\n",
       "  <thead>\n",
       "    <tr style=\"text-align: right;\">\n",
       "      <th></th>\n",
       "      <th>Severity</th>\n",
       "    </tr>\n",
       "    <tr>\n",
       "      <th>Month</th>\n",
       "      <th></th>\n",
       "    </tr>\n",
       "  </thead>\n",
       "  <tbody>\n",
       "    <tr>\n",
       "      <th>January</th>\n",
       "      <td>10781</td>\n",
       "    </tr>\n",
       "    <tr>\n",
       "      <th>February</th>\n",
       "      <td>10307</td>\n",
       "    </tr>\n",
       "    <tr>\n",
       "      <th>March</th>\n",
       "      <td>11921</td>\n",
       "    </tr>\n",
       "    <tr>\n",
       "      <th>April</th>\n",
       "      <td>11443</td>\n",
       "    </tr>\n",
       "    <tr>\n",
       "      <th>May</th>\n",
       "      <td>12812</td>\n",
       "    </tr>\n",
       "    <tr>\n",
       "      <th>June</th>\n",
       "      <td>13059</td>\n",
       "    </tr>\n",
       "    <tr>\n",
       "      <th>July</th>\n",
       "      <td>13067</td>\n",
       "    </tr>\n",
       "    <tr>\n",
       "      <th>August</th>\n",
       "      <td>11511</td>\n",
       "    </tr>\n",
       "    <tr>\n",
       "      <th>September</th>\n",
       "      <td>12954</td>\n",
       "    </tr>\n",
       "    <tr>\n",
       "      <th>October</th>\n",
       "      <td>13500</td>\n",
       "    </tr>\n",
       "    <tr>\n",
       "      <th>November</th>\n",
       "      <td>13120</td>\n",
       "    </tr>\n",
       "    <tr>\n",
       "      <th>December</th>\n",
       "      <td>10747</td>\n",
       "    </tr>\n",
       "  </tbody>\n",
       "</table>\n",
       "</div>"
      ],
      "text/plain": [
       "           Severity\n",
       "Month              \n",
       "January       10781\n",
       "February      10307\n",
       "March         11921\n",
       "April         11443\n",
       "May           12812\n",
       "June          13059\n",
       "July          13067\n",
       "August        11511\n",
       "September     12954\n",
       "October       13500\n",
       "November      13120\n",
       "December      10747"
      ]
     },
     "execution_count": 41,
     "metadata": {},
     "output_type": "execute_result"
    }
   ],
   "source": [
    "# define order of months\n",
    "order = [ \"January\", \"February\", \"March\", \"April\",\n",
    "            \"May\", \"June\", \"July\", \"August\",\n",
    "            \"September\", \"October\", \"November\",\"December\"]\n",
    "\n",
    "# groupby and maintain order\n",
    "months_gb = months.groupby( ['Month'], sort=False ).count()\n",
    "months_comb = pd.DataFrame( months_gb )[['Severity']]\n",
    "months_comb"
   ]
  },
  {
   "cell_type": "code",
   "execution_count": 42,
   "metadata": {},
   "outputs": [
    {
     "data": {
      "image/png": "[encoded data removed]",
      "text/plain": [
       "<Figure size 1152x432 with 1 Axes>"
      ]
     },
     "metadata": {
      "needs_background": "light"
     },
     "output_type": "display_data"
    },
    {
     "data": {
      "text/plain": [
       "<Figure size 432x288 with 0 Axes>"
      ]
     },
     "metadata": {},
     "output_type": "display_data"
    }
   ],
   "source": [
    "# manipulate data\n",
    "# setup analysis\n",
    "plt.bar( order, months_comb['Severity'].tolist(), facecolor=\"lightblue\", alpha=1, align=\"center\")\n",
    "\n",
    "# setup limits\n",
    "plt.ylim(6000, 16000, 2000)\n",
    "\n",
    "# setup labels\n",
    "plt.title( \"Total Number of Accidents by Month of the Year\", pad=18,\n",
    "          fontdict={'fontweight': 'bold', 'fontsize': 'xx-large'} )\n",
    "plt.xticks( label=order, fontsize='large' )\n",
    "plt.xlabel( \"Month\", labelpad=15, fontweight='bold', fontsize='x-large' )\n",
    "plt.ylabel( \"Number of Accidents\", labelpad=15, fontweight='bold', fontsize='x-large' )\n",
    "\n",
    "# visualization of data\n",
    "plt.gcf().set_size_inches(16, 6)\n",
    "plt.show()\n",
    "\n",
    "# Save figure as .png\n",
    "plt.savefig( \"./Visuals/month_vs_severity.png\", bbox='tight')"
   ]
  },
  {
   "cell_type": "markdown",
   "metadata": {},
   "source": [
    "## Weather and Light Conditions"
   ]
  },
  {
   "cell_type": "markdown",
   "metadata": {},
   "source": [
    "### by Brooke Rodriguez (@brookemrod)"
   ]
  },
  {
   "cell_type": "markdown",
   "metadata": {},
   "source": [
    "Does bad weather affect the number of accidents?"
   ]
  },
  {
   "cell_type": "code",
   "execution_count": 43,
   "metadata": {},
   "outputs": [
    {
     "name": "stderr",
     "output_type": "stream",
     "text": [
      "C:\\Users\\Bails\\Anaconda3\\lib\\site-packages\\ipykernel_launcher.py:10: SettingWithCopyWarning: \n",
      "A value is trying to be set on a copy of a slice from a DataFrame.\n",
      "Try using .loc[row_indexer,col_indexer] = value instead\n",
      "\n",
      "See the caveats in the documentation: http://pandas.pydata.org/pandas-docs/stable/indexing.html#indexing-view-versus-copy\n",
      "  # Remove the CWD from sys.path while we load stuff.\n"
     ]
    },
    {
     "data": {
      "text/html": [
       "<div>\n",
       "<style scoped>\n",
       "    .dataframe tbody tr th:only-of-type {\n",
       "        vertical-align: middle;\n",
       "    }\n",
       "\n",
       "    .dataframe tbody tr th {\n",
       "        vertical-align: top;\n",
       "    }\n",
       "\n",
       "    .dataframe thead th {\n",
       "        text-align: right;\n",
       "    }\n",
       "</style>\n",
       "<table border=\"1\" class=\"dataframe\">\n",
       "  <thead>\n",
       "    <tr style=\"text-align: right;\">\n",
       "      <th></th>\n",
       "      <th>Weather</th>\n",
       "      <th>Year</th>\n",
       "      <th>Severity</th>\n",
       "    </tr>\n",
       "    <tr>\n",
       "      <th>Accident</th>\n",
       "      <th></th>\n",
       "      <th></th>\n",
       "      <th></th>\n",
       "    </tr>\n",
       "  </thead>\n",
       "  <tbody>\n",
       "    <tr>\n",
       "      <th>200501BS00001</th>\n",
       "      <td>Raining</td>\n",
       "      <td>2005</td>\n",
       "      <td>Serious</td>\n",
       "    </tr>\n",
       "    <tr>\n",
       "      <th>200501BS00002</th>\n",
       "      <td>Fine</td>\n",
       "      <td>2005</td>\n",
       "      <td>Slight</td>\n",
       "    </tr>\n",
       "    <tr>\n",
       "      <th>200501BS00003</th>\n",
       "      <td>Fine</td>\n",
       "      <td>2005</td>\n",
       "      <td>Slight</td>\n",
       "    </tr>\n",
       "    <tr>\n",
       "      <th>200501BS00004</th>\n",
       "      <td>Fine</td>\n",
       "      <td>2005</td>\n",
       "      <td>Slight</td>\n",
       "    </tr>\n",
       "    <tr>\n",
       "      <th>200501BS00005</th>\n",
       "      <td>Fine</td>\n",
       "      <td>2005</td>\n",
       "      <td>Slight</td>\n",
       "    </tr>\n",
       "  </tbody>\n",
       "</table>\n",
       "</div>"
      ],
      "text/plain": [
       "               Weather  Year Severity\n",
       "Accident                             \n",
       "200501BS00001  Raining  2005  Serious\n",
       "200501BS00002     Fine  2005   Slight\n",
       "200501BS00003     Fine  2005   Slight\n",
       "200501BS00004     Fine  2005   Slight\n",
       "200501BS00005     Fine  2005   Slight"
      ]
     },
     "execution_count": 43,
     "metadata": {},
     "output_type": "execute_result"
    }
   ],
   "source": [
    "# Combining similar weather conditions together\n",
    "weather_df = df[['Weather', 'Year', 'Severity']]\n",
    "\n",
    "weather_df['Weather'] = weather_df[\"Weather\"].replace(\n",
    "   {\"Fine + high winds\": \"Fine\", \"Fine no high winds\": \"Fine\",\n",
    "   \"Raining + high winds\": \"Raining\",\n",
    "   \"Raining no high winds\": \"Raining\",\n",
    "   \"Snowing + high winds\":\"Snowing\",\n",
    "   \"Snowing no high winds\": \"Snowing\",\n",
    "   \"Unknown\": \"Other\"})\n",
    "weather_df.head()"
   ]
  },
  {
   "cell_type": "code",
   "execution_count": 44,
   "metadata": {},
   "outputs": [
    {
     "data": {
      "text/html": [
       "<div>\n",
       "<style scoped>\n",
       "    .dataframe tbody tr th:only-of-type {\n",
       "        vertical-align: middle;\n",
       "    }\n",
       "\n",
       "    .dataframe tbody tr th {\n",
       "        vertical-align: top;\n",
       "    }\n",
       "\n",
       "    .dataframe thead th {\n",
       "        text-align: right;\n",
       "    }\n",
       "</style>\n",
       "<table border=\"1\" class=\"dataframe\">\n",
       "  <thead>\n",
       "    <tr style=\"text-align: right;\">\n",
       "      <th></th>\n",
       "      <th></th>\n",
       "      <th>Year</th>\n",
       "    </tr>\n",
       "    <tr>\n",
       "      <th>Weather</th>\n",
       "      <th>Severity</th>\n",
       "      <th></th>\n",
       "    </tr>\n",
       "  </thead>\n",
       "  <tbody>\n",
       "    <tr>\n",
       "      <th rowspan=\"3\" valign=\"top\">Fine</th>\n",
       "      <th>Fatal</th>\n",
       "      <td>1004</td>\n",
       "    </tr>\n",
       "    <tr>\n",
       "      <th>Serious</th>\n",
       "      <td>15890</td>\n",
       "    </tr>\n",
       "    <tr>\n",
       "      <th>Slight</th>\n",
       "      <td>108444</td>\n",
       "    </tr>\n",
       "    <tr>\n",
       "      <th rowspan=\"3\" valign=\"top\">Fog or mist</th>\n",
       "      <th>Fatal</th>\n",
       "      <td>5</td>\n",
       "    </tr>\n",
       "    <tr>\n",
       "      <th>Serious</th>\n",
       "      <td>42</td>\n",
       "    </tr>\n",
       "    <tr>\n",
       "      <th>Slight</th>\n",
       "      <td>260</td>\n",
       "    </tr>\n",
       "    <tr>\n",
       "      <th rowspan=\"3\" valign=\"top\">Other</th>\n",
       "      <th>Fatal</th>\n",
       "      <td>22</td>\n",
       "    </tr>\n",
       "    <tr>\n",
       "      <th>Serious</th>\n",
       "      <td>451</td>\n",
       "    </tr>\n",
       "    <tr>\n",
       "      <th>Slight</th>\n",
       "      <td>2721</td>\n",
       "    </tr>\n",
       "    <tr>\n",
       "      <th rowspan=\"3\" valign=\"top\">Raining</th>\n",
       "      <th>Fatal</th>\n",
       "      <td>99</td>\n",
       "    </tr>\n",
       "    <tr>\n",
       "      <th>Serious</th>\n",
       "      <td>1914</td>\n",
       "    </tr>\n",
       "    <tr>\n",
       "      <th>Slight</th>\n",
       "      <td>13578</td>\n",
       "    </tr>\n",
       "    <tr>\n",
       "      <th rowspan=\"3\" valign=\"top\">Snowing</th>\n",
       "      <th>Fatal</th>\n",
       "      <td>1</td>\n",
       "    </tr>\n",
       "    <tr>\n",
       "      <th>Serious</th>\n",
       "      <td>68</td>\n",
       "    </tr>\n",
       "    <tr>\n",
       "      <th>Slight</th>\n",
       "      <td>723</td>\n",
       "    </tr>\n",
       "  </tbody>\n",
       "</table>\n",
       "</div>"
      ],
      "text/plain": [
       "                        Year\n",
       "Weather     Severity        \n",
       "Fine        Fatal       1004\n",
       "            Serious    15890\n",
       "            Slight    108444\n",
       "Fog or mist Fatal          5\n",
       "            Serious       42\n",
       "            Slight       260\n",
       "Other       Fatal         22\n",
       "            Serious      451\n",
       "            Slight      2721\n",
       "Raining     Fatal         99\n",
       "            Serious     1914\n",
       "            Slight     13578\n",
       "Snowing     Fatal          1\n",
       "            Serious       68\n",
       "            Slight       723"
      ]
     },
     "execution_count": 44,
     "metadata": {},
     "output_type": "execute_result"
    }
   ],
   "source": [
    "# pull above data - CHANGE data REFERENCE ( don't rewrite master copy of data )\n",
    "weather_gb = weather_df.groupby(['Weather', 'Severity']).count()\n",
    "\n",
    "# Convert to DataFrame\n",
    "weather = pd.DataFrame( weather_gb )[['Year']]\n",
    "\n",
    "#Preview Dataframe\n",
    "weather"
   ]
  },
  {
   "cell_type": "code",
   "execution_count": 45,
   "metadata": {},
   "outputs": [
    {
     "data": {
      "image/png": "[encoded data removed]",
      "text/plain": [
       "<Figure size 1152x720 with 1 Axes>"
      ]
     },
     "metadata": {
      "needs_background": "light"
     },
     "output_type": "display_data"
    },
    {
     "data": {
      "text/plain": [
       "<Figure size 432x288 with 0 Axes>"
      ]
     },
     "metadata": {},
     "output_type": "display_data"
    }
   ],
   "source": [
    "# Bar chart\n",
    "# set width of bar\n",
    "barWidth = 0.25\n",
    " \n",
    "# set height of bar\n",
    "bars1 = [1004, 5, 22, 99, 1]\n",
    "bars2 = [15890, 42, 451, 1914, 68]\n",
    "bars3 = [108444, 260, 2721, 13578, 723]\n",
    " \n",
    "# Set position of bar on X axis\n",
    "r1 = np.arange(len(bars1))\n",
    "r2 = [x + barWidth for x in r1]\n",
    "r3 = [x + barWidth for x in r2]\n",
    " \n",
    "# Make the plot\n",
    "plt.bar(r1, bars1, color='black', width=barWidth, edgecolor='white', label='Fatal')\n",
    "plt.bar(r2, bars2, color='yellow', width=barWidth, edgecolor='white', label='Serious')\n",
    "plt.bar(r3, bars3, color='lightblue', width=barWidth, edgecolor='white', label='Slight')\n",
    " \n",
    "# setup limits\n",
    "plt.ylim(0, 60000, 2000)\n",
    "\n",
    "# setup labels\n",
    "plt.title( \"Number of Accidents by Weather Conditions\", pad=18,\n",
    "          fontdict={'fontweight': 'bold', 'fontsize': 'xx-large'} )\n",
    "plt.xticks([r + barWidth for r in range(len(bars1))], ['Fine','Fog/Mist', 'Other/ /nUnknown', 'Rain', 'Snow'], fontsize='large', rotation = 45)\n",
    "plt.xlabel( 'Weather Conditions', labelpad=15, fontweight='bold', fontsize='x-large' )\n",
    "plt.ylabel( \"Number of Accidents\", labelpad=15, fontweight='bold', fontsize='x-large' )\n",
    "\n",
    "# visualization of data\n",
    "plt.legend(fontsize='x-large')\n",
    "plt.gcf().set_size_inches(16, 10)\n",
    "plt.show()\n",
    "\n",
    "# Save figure as .png\n",
    "plt.savefig( \"./Visuals/weather_vs_severity.png\", bbox='tight')"
   ]
  },
  {
   "cell_type": "markdown",
   "metadata": {},
   "source": [
    "Are accidents less likely on roads with better lighting?"
   ]
  },
  {
   "cell_type": "code",
   "execution_count": 46,
   "metadata": {},
   "outputs": [
    {
     "data": {
      "text/html": [
       "<div>\n",
       "<style scoped>\n",
       "    .dataframe tbody tr th:only-of-type {\n",
       "        vertical-align: middle;\n",
       "    }\n",
       "\n",
       "    .dataframe tbody tr th {\n",
       "        vertical-align: top;\n",
       "    }\n",
       "\n",
       "    .dataframe thead th {\n",
       "        text-align: right;\n",
       "    }\n",
       "</style>\n",
       "<table border=\"1\" class=\"dataframe\">\n",
       "  <thead>\n",
       "    <tr style=\"text-align: right;\">\n",
       "      <th></th>\n",
       "      <th></th>\n",
       "      <th>Year</th>\n",
       "    </tr>\n",
       "    <tr>\n",
       "      <th>Light</th>\n",
       "      <th>Severity</th>\n",
       "      <th></th>\n",
       "    </tr>\n",
       "  </thead>\n",
       "  <tbody>\n",
       "    <tr>\n",
       "      <th rowspan=\"3\" valign=\"top\">Darkness - lighting unknown</th>\n",
       "      <th>Fatal</th>\n",
       "      <td>5</td>\n",
       "    </tr>\n",
       "    <tr>\n",
       "      <th>Serious</th>\n",
       "      <td>71</td>\n",
       "    </tr>\n",
       "    <tr>\n",
       "      <th>Slight</th>\n",
       "      <td>450</td>\n",
       "    </tr>\n",
       "    <tr>\n",
       "      <th rowspan=\"3\" valign=\"top\">Darkness - lights lit</th>\n",
       "      <th>Fatal</th>\n",
       "      <td>494</td>\n",
       "    </tr>\n",
       "    <tr>\n",
       "      <th>Serious</th>\n",
       "      <td>6037</td>\n",
       "    </tr>\n",
       "    <tr>\n",
       "      <th>Slight</th>\n",
       "      <td>34428</td>\n",
       "    </tr>\n",
       "    <tr>\n",
       "      <th rowspan=\"3\" valign=\"top\">Darkness - lights unlit</th>\n",
       "      <th>Fatal</th>\n",
       "      <td>3</td>\n",
       "    </tr>\n",
       "    <tr>\n",
       "      <th>Serious</th>\n",
       "      <td>43</td>\n",
       "    </tr>\n",
       "    <tr>\n",
       "      <th>Slight</th>\n",
       "      <td>233</td>\n",
       "    </tr>\n",
       "    <tr>\n",
       "      <th rowspan=\"3\" valign=\"top\">Darkness - no lighting</th>\n",
       "      <th>Fatal</th>\n",
       "      <td>11</td>\n",
       "    </tr>\n",
       "    <tr>\n",
       "      <th>Serious</th>\n",
       "      <td>39</td>\n",
       "    </tr>\n",
       "    <tr>\n",
       "      <th>Slight</th>\n",
       "      <td>151</td>\n",
       "    </tr>\n",
       "    <tr>\n",
       "      <th rowspan=\"3\" valign=\"top\">Daylight</th>\n",
       "      <th>Fatal</th>\n",
       "      <td>618</td>\n",
       "    </tr>\n",
       "    <tr>\n",
       "      <th>Serious</th>\n",
       "      <td>12175</td>\n",
       "    </tr>\n",
       "    <tr>\n",
       "      <th>Slight</th>\n",
       "      <td>90464</td>\n",
       "    </tr>\n",
       "  </tbody>\n",
       "</table>\n",
       "</div>"
      ],
      "text/plain": [
       "                                       Year\n",
       "Light                       Severity       \n",
       "Darkness - lighting unknown Fatal         5\n",
       "                            Serious      71\n",
       "                            Slight      450\n",
       "Darkness - lights lit       Fatal       494\n",
       "                            Serious    6037\n",
       "                            Slight    34428\n",
       "Darkness - lights unlit     Fatal         3\n",
       "                            Serious      43\n",
       "                            Slight      233\n",
       "Darkness - no lighting      Fatal        11\n",
       "                            Serious      39\n",
       "                            Slight      151\n",
       "Daylight                    Fatal       618\n",
       "                            Serious   12175\n",
       "                            Slight    90464"
      ]
     },
     "execution_count": 46,
     "metadata": {},
     "output_type": "execute_result"
    }
   ],
   "source": [
    "# pull above data - CHANGE data REFERENCE ( don't rewrite master copy of data )\n",
    "light = df.groupby(['Light', 'Severity']).count()\n",
    "\n",
    "# Convert to DataFrame\n",
    "light_df = pd.DataFrame( light )[['Year']]\n",
    "\n",
    "# Preview DataFrame\n",
    "light_df"
   ]
  },
  {
   "cell_type": "code",
   "execution_count": 47,
   "metadata": {},
   "outputs": [
    {
     "data": {
      "image/png": "[encoded data removed]",
      "text/plain": [
       "<Figure size 1152x1008 with 1 Axes>"
      ]
     },
     "metadata": {
      "needs_background": "light"
     },
     "output_type": "display_data"
    },
    {
     "data": {
      "text/plain": [
       "<Figure size 432x288 with 0 Axes>"
      ]
     },
     "metadata": {},
     "output_type": "display_data"
    }
   ],
   "source": [
    "# Stacked bar chart\n",
    "# y-axis in bold\n",
    "rc('font', weight='bold')\n",
    " \n",
    "# Values of each group\n",
    "bars1_fatal = [3, 5, 11, 494, 618]\n",
    "bars2_serious = [39, 43, 71, 6037, 12175]\n",
    "bars3_slight = [151, 233, 450, 34428, 90464]\n",
    " \n",
    "# Heights of bars1 + bars2\n",
    "bars = np.add(bars1_fatal, bars2_serious).tolist()\n",
    " \n",
    "# The position of the bars on the x-axis\n",
    "r = [0,1,2,3,4]\n",
    " \n",
    "# Names of group and bar width\n",
    "names = ['Unknown','Lit','Unlit','None','Daylight']\n",
    "barWidth = 1\n",
    " \n",
    "# Create fatal/black bars\n",
    "plt.bar(r, bars1_fatal, label=\"Fatal\", color='black', edgecolor='white', width=barWidth)\n",
    "# Create serious/yellow bars (middle), on top of the firs ones\n",
    "plt.bar(r, bars2_serious, bottom=bars1_fatal, label=\"Serious\", color='yellow', edgecolor='white', width=barWidth)\n",
    "# Create slight/lightblue bars (top)\n",
    "plt.bar(r, bars3_slight, bottom=bars, label=\"Slight\", color='lightblue', edgecolor='white', width=barWidth)\n",
    " \n",
    "# setup limits\n",
    "plt.xticks(r, names, fontweight='bold', fontsize='large' )\n",
    "plt.ylim( 0, 80000, 10000 )\n",
    "\n",
    "# setup labels\n",
    "plt.title( \"Total Number of Accidents by Light Condition\", pad=18,\n",
    "          fontdict={'fontweight': 'bold', 'fontsize': 'xx-large'} )\n",
    "plt.xlabel( \"Light Condition\", labelpad=15, fontweight='bold', fontsize='x-large' )\n",
    "plt.ylabel( \"Number of Accidents\", labelpad=15, fontweight='bold', fontsize='x-large' )\n",
    "\n",
    "# visualization of data\n",
    "plt.legend( loc ='upper right', frameon = True, edgecolor = 'black')\n",
    "plt.gcf().set_size_inches(16, 14)\n",
    "plt.show()\n",
    "\n",
    "# Save figure as .png\n",
    "plt.savefig( \"./Visuals/light_vs_severity.png\", bbox='tight')"
   ]
  },
  {
   "cell_type": "markdown",
   "metadata": {},
   "source": [
    "## Road Conditions"
   ]
  },
  {
   "cell_type": "markdown",
   "metadata": {},
   "source": [
    "### by Fiona Weston (@fionaweston)"
   ]
  },
  {
   "cell_type": "markdown",
   "metadata": {},
   "source": [
    "Does traffic control actually help lower the number of accidents?"
   ]
  },
  {
   "cell_type": "code",
   "execution_count": 48,
   "metadata": {},
   "outputs": [
    {
     "data": {
      "text/plain": [
       "Severity  Traffic Control      \n",
       "Fatal     Authorised person            3\n",
       "          Auto traffic signal        218\n",
       "          Stop sign                    2\n",
       "          Unknown                    434\n",
       "          Yield or uncontrolled      474\n",
       "Serious   Authorised person           25\n",
       "          Auto traffic signal       3638\n",
       "          Stop sign                   44\n",
       "          Unknown                   5572\n",
       "          Yield or uncontrolled     9086\n",
       "Slight    Authorised person          144\n",
       "          Auto traffic signal      24432\n",
       "          Stop sign                  221\n",
       "          Unknown                  34315\n",
       "          Yield or uncontrolled    66614\n",
       "dtype: int64"
      ]
     },
     "execution_count": 48,
     "metadata": {},
     "output_type": "execute_result"
    }
   ],
   "source": [
    "# pull above data - CHANGE data REFERENCE ( don't rewrite master copy of data )\n",
    "severity_df = df.replace({\"Data missing or out of range\": \"Unknown\",\n",
    "                \"Give way or uncontrolled\": \"Yield or uncontrolled\"})\n",
    "severity_gb = severity_df.groupby([\"Severity\",\"Traffic Control\"]).size()\n",
    "severity_gb"
   ]
  },
  {
   "cell_type": "code",
   "execution_count": 49,
   "metadata": {},
   "outputs": [
    {
     "data": {
      "image/png": "[encoded data removed]",
      "text/plain": [
       "<Figure size 720x432 with 1 Axes>"
      ]
     },
     "metadata": {
      "needs_background": "light"
     },
     "output_type": "display_data"
    },
    {
     "data": {
      "text/plain": [
       "<Figure size 432x288 with 0 Axes>"
      ]
     },
     "metadata": {},
     "output_type": "display_data"
    }
   ],
   "source": [
    "# list severity types and traffic control methods\n",
    "fatal = []\n",
    "serious = []\n",
    "slight = []\n",
    "listofcontrols = [\"Authorised person\", \"Auto traffic signal\", \"Yield or uncontrolled\", \"Stop sign\", \"Unknown\" ]\n",
    "\n",
    "# populate severity lists by traffic control method\n",
    "for control in listofcontrols:\n",
    "    fatal.append(severity_gb['Fatal'][control])\n",
    "    serious.append(severity_gb['Serious'][control])\n",
    "    slight.append(severity_gb['Slight'][control])\n",
    "\n",
    "# setup graph    \n",
    "fatal_begin = np.add(slight, serious).tolist()\n",
    "bar_width = .2\n",
    "fig, ax = plt.subplots(figsize = (10,6))\n",
    "idx = np.asarray([i for i in range(len(listofcontrols))])\n",
    "\n",
    "# create multi-bar graph\n",
    "ax.bar(idx,slight, color=\"lightblue\", edgecolor=\"white\", width=bar_width)\n",
    "ax.bar(idx+bar_width, serious,color=\"yellow\", edgecolor=\"white\", width=bar_width)\n",
    "ax.bar(idx+bar_width*2, fatal, color=\"black\", edgecolor = \"white\", width=bar_width)\n",
    "\n",
    "# set parameters for x and y ticks\n",
    "ax.set_xticks(idx)\n",
    "ax.set_yscale('log')\n",
    "\n",
    "# label and format ticks\n",
    "ax.set_xticklabels(listofcontrols, fontweight='bold', fontsize='large', rotation=10)\n",
    "for tick in ax.get_yticklabels():\n",
    "    tick.set_fontsize(\"large\")\n",
    "    tick.set_fontweight(\"bold\") \n",
    "\n",
    "# label and format axes and graph\n",
    "ax.set_xlabel(\"Traffic Control Method\", labelpad=12, fontweight='bold', fontsize='x-large')\n",
    "ax.set_ylabel(\"Number of Accidents\", labelpad=12, fontweight='bold', fontsize='x-large')\n",
    "ax.legend(['Slight', 'Serious', 'Fatal'])\n",
    "ax.set_title(\"Severity of Accidents by Traffic Control\", pad=20, fontweight='bold', fontsize='xx-large')\n",
    "\n",
    "# format and view graph\n",
    "fig.tight_layout()\n",
    "plt.show()\n",
    "\n",
    "# Save figure as .png\n",
    "plt.savefig( \"./Visuals/traffic_vs_severity.png\", bbox='tight')"
   ]
  },
  {
   "cell_type": "markdown",
   "metadata": {},
   "source": [
    "\n",
    "\n",
    "\n",
    "\n",
    "### Does rain or wet road surfaces increase the number of accidents?"
   ]
  },
  {
   "cell_type": "code",
   "execution_count": 50,
   "metadata": {},
   "outputs": [
    {
     "data": {
      "text/plain": [
       "Severity  Road Cond.  \n",
       "Fatal     Damp or wet        229\n",
       "          Dry                892\n",
       "          Ice or snow         10\n",
       "Serious   Damp or wet       3436\n",
       "          Dry              14734\n",
       "          Flood (>3cm)         6\n",
       "          Ice or Snow         42\n",
       "          Ice or snow        147\n",
       "Slight    Damp or wet      23168\n",
       "          Dry             101008\n",
       "          Flood (>3cm)        39\n",
       "          Ice or Snow        438\n",
       "          Ice or snow       1069\n",
       "          Unknown              4\n",
       "dtype: int64"
      ]
     },
     "execution_count": 50,
     "metadata": {},
     "output_type": "execute_result"
    }
   ],
   "source": [
    "# pull relevant data from master dataframe\n",
    "severity_df = df.replace({\"Data missing or out of range\": \"Unknown\",\n",
    "                \"Frost or ice\": \"Ice or snow\",\n",
    "                \"Snow\": \"Ice or Snow\",\n",
    "                \"Wet or damp\": \"Damp or wet\",\n",
    "                \"Flood over 3cm. deep\": \"Flood (>3cm)\"})\n",
    "severity_gb = severity_df.groupby([\"Severity\",\"Road Cond.\"]).size()\n",
    "severity_gb"
   ]
  },
  {
   "cell_type": "code",
   "execution_count": 51,
   "metadata": {},
   "outputs": [
    {
     "data": {
      "image/png": "[encoded data removed]",
      "text/plain": [
       "<Figure size 720x432 with 1 Axes>"
      ]
     },
     "metadata": {
      "needs_background": "light"
     },
     "output_type": "display_data"
    },
    {
     "data": {
      "text/plain": [
       "<Figure size 432x288 with 0 Axes>"
      ]
     },
     "metadata": {},
     "output_type": "display_data"
    }
   ],
   "source": [
    "# list severity types and weather\n",
    "fatal = []\n",
    "serious = []\n",
    "slight = []\n",
    "listofRoadConds = [\"Damp or wet\", \"Dry\", \"Flood (>3cm)\", \"Ice or Snow\", \"Unknown\"]\n",
    "\n",
    "# populate severity lists by weather\n",
    "for cond in listofRoadConds:\n",
    "    if cond in severity_gb['Fatal']:\n",
    "        fatal.append(severity_gb['Fatal'][cond])\n",
    "    else:\n",
    "        fatal.append(0)\n",
    "    if cond in severity_gb['Serious']:\n",
    "        serious.append(severity_gb['Serious'][cond])\n",
    "    else:\n",
    "        serious.append(0)\n",
    "    if cond in severity_gb['Slight']:\n",
    "        slight.append(severity_gb['Slight'][cond])\n",
    "    else:\n",
    "        slight.append(0)\n",
    "    \n",
    "# setup graph\n",
    "bar_width = .2\n",
    "fig, ax = plt.subplots(figsize = (10,6))\n",
    "idx = np.asarray([i for i in range(len(listofRoadConds))])\n",
    "\n",
    "# create multi-bar graph \n",
    "ax.bar(idx, slight, color=\"lightblue\", edgecolor=\"white\", width=bar_width)\n",
    "ax.bar(idx+bar_width, serious, color=\"yellow\", edgecolor=\"white\", width=bar_width)\n",
    "ax.bar(idx+bar_width*2, fatal, color=\"black\", edgecolor=\"white\", width=bar_width)\n",
    "\n",
    "# set parameters for x and y ticks\n",
    "ax.set_xticks(idx)\n",
    "ax.set_yscale('log')\n",
    "\n",
    "# label and format ticks\n",
    "ax.set_xticklabels(listofRoadConds, fontweight='bold', fontsize='large',rotation=10)\n",
    "for tick in ax.get_yticklabels():\n",
    "    tick.set_fontsize(\"large\")\n",
    "    tick.set_fontweight(\"bold\")\n",
    "\n",
    "# label and format axes and graph\n",
    "ax.set_xlabel(\"Surface Conditions\", labelpad=17, fontweight='bold', fontsize='x-large')\n",
    "ax.set_ylabel(\"Number of Accidents\", labelpad=12, fontweight='bold', fontsize='x-large')\n",
    "ax.legend(['Slight', 'Serious', 'Fatal'])\n",
    "ax.set_title(\"Severity of Accidents by Road Surface Conditions\", pad=20, fontweight='bold', fontsize='xx-large')\n",
    "\n",
    "# format and view graph\n",
    "fig.tight_layout()\n",
    "plt.show()\n",
    "\n",
    "# Save figure as .png\n",
    "plt.savefig( \"./Visuals/road_vs_severity.png\", bbox='tight')"
   ]
  },
  {
   "cell_type": "markdown",
   "metadata": {},
   "source": [
    "### Are areas with a higher speed limit more prone to accidents?"
   ]
  },
  {
   "cell_type": "code",
   "execution_count": 52,
   "metadata": {},
   "outputs": [
    {
     "data": {
      "text/plain": [
       "Severity  Speed Limit\n",
       "Fatal     20                  5\n",
       "          30                948\n",
       "          40                 95\n",
       "          50                 51\n",
       "          60                  6\n",
       "          70                 26\n",
       "Serious   20                 44\n",
       "          30              17093\n",
       "          40                574\n",
       "          50                466\n",
       "          60                 37\n",
       "          70                151\n",
       "Slight    10                  1\n",
       "          15                  2\n",
       "          20                240\n",
       "          30             117627\n",
       "          40               3529\n",
       "          50               3044\n",
       "          60                163\n",
       "          70               1120\n",
       "dtype: int64"
      ]
     },
     "execution_count": 52,
     "metadata": {},
     "output_type": "execute_result"
    }
   ],
   "source": [
    "# re-format/style data for trend3\n",
    "severity_df = df.groupby([\"Severity\",\"Speed Limit\"]).size()\n",
    "\n",
    "severity_df"
   ]
  },
  {
   "cell_type": "code",
   "execution_count": 53,
   "metadata": {},
   "outputs": [
    {
     "data": {
      "image/png": "[encoded data removed]",
      "text/plain": [
       "<Figure size 720x432 with 1 Axes>"
      ]
     },
     "metadata": {
      "needs_background": "light"
     },
     "output_type": "display_data"
    },
    {
     "data": {
      "text/plain": [
       "<Figure size 432x288 with 0 Axes>"
      ]
     },
     "metadata": {},
     "output_type": "display_data"
    }
   ],
   "source": [
    "# list severity types and speed limits\n",
    "fatal = []\n",
    "serious = []\n",
    "slight = []\n",
    "listofSpeedLimit = [10,15,20,30,40,50,60,70]\n",
    "\n",
    "# populate severity lists by speed limit\n",
    "for SpeedLimit in listofSpeedLimit:\n",
    "    if SpeedLimit in severity_df['Fatal']:\n",
    "        fatal.append(severity_df['Fatal'][SpeedLimit])\n",
    "    else:\n",
    "        fatal.append(0)\n",
    "    if SpeedLimit in severity_df['Serious']:\n",
    "        serious.append(severity_df['Serious'][SpeedLimit])\n",
    "    else:\n",
    "        serious.append(0)\n",
    "    if SpeedLimit in severity_df['Slight']:\n",
    "        slight.append(severity_df['Slight'][SpeedLimit])\n",
    "    else:\n",
    "        slight.append(0)\n",
    "\n",
    "# setup graph\n",
    "fatal_begin = np.add(slight, serious).tolist()\n",
    "bar_width = .2\n",
    "fig, ax = plt.subplots(figsize = (10,6))\n",
    "idx = np.asarray([i for i in range(len(listofSpeedLimit))])\n",
    "\n",
    "# create multi-bar graph \n",
    "ax.bar(idx, slight, color=\"lightblue\", edgecolor=\"white\", width=bar_width)\n",
    "ax.bar(idx+bar_width, serious, color=\"yellow\", edgecolor=\"white\", width=bar_width)\n",
    "ax.bar(idx+bar_width*2, fatal, color=\"black\", edgecolor=\"white\", width=bar_width)\n",
    "\n",
    "# set parameters for x and y ticks\n",
    "ax.set_xticks(idx)\n",
    "ax.set_yscale('log')\n",
    "\n",
    "# label and format ticks\n",
    "ax.set_xticklabels(listofSpeedLimit, fontweight='bold', fontsize='large')\n",
    "for tick in ax.get_yticklabels():\n",
    "    tick.set_fontsize(\"large\")\n",
    "    tick.set_fontweight(\"bold\")\n",
    "\n",
    "# label and format axes and graph\n",
    "ax.set_xlabel(\"Miles per Hour (kmph)\", labelpad=12, fontweight='bold', fontsize='x-large')\n",
    "ax.set_ylabel(\"Number of Accidents\", labelpad=12, fontweight='bold', fontsize='x-large')\n",
    "ax.legend(['Slight', 'Serious', 'Fatal'])\n",
    "ax.set_title(\"Severity of Accidents by Speed Limit\", pad=20, fontweight='bold', fontsize='xx-large')\n",
    "\n",
    "# format and view graph\n",
    "fig.tight_layout()\n",
    "plt.show()\n",
    "\n",
    "# Save figure as .png\n",
    "plt.savefig( \"./Visuals/speed_vs_severity.png\", bbox='tight')"
   ]
  }
 ],
 "metadata": {
  "kernelspec": {
   "display_name": "Python 3",
   "language": "python",
   "name": "python3"
  },
  "language_info": {
   "codemirror_mode": {
    "name": "ipython",
    "version": 3
   },
   "file_extension": ".py",
   "mimetype": "text/x-python",
   "name": "python",
   "nbconvert_exporter": "python",
   "pygments_lexer": "ipython3",
   "version": "3.7.0"
  }
 },
 "nbformat": 4,
 "nbformat_minor": 2
}
